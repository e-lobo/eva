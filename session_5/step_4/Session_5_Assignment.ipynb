{
 "nbformat": 4,
 "nbformat_minor": 0,
 "metadata": {
  "colab": {
   "name": "Session_5_Assignment.ipynb",
   "provenance": [],
   "collapsed_sections": []
  },
  "kernelspec": {
   "name": "python3",
   "display_name": "Python 3"
  },
  "accelerator": "GPU"
 },
 "cells": [
  {
   "cell_type": "markdown",
   "metadata": {
    "id": "zeFmJk8KHwrM"
   },
   "source": [
    "# Import Libraries"
   ]
  },
  {
   "cell_type": "markdown",
   "metadata": {
    "id": "PPjsDqBUyg-3"
   },
   "source": [
    "# EVA 5 - Session 5 - Step 4\n",
    "## Target:\n",
    "\n",
    "1.   Addition of Image Augmentation (Random Rotation).\n",
    "2.   Addition of GAP (Global Average Pooling) layer to the network.\n",
    "3.   Addition of scheduler.\n",
    "\n",
    "## Results:\n",
    "\n",
    "\n",
    "1.   Parameters: 8,016\n",
    "2.   Best Training Accuracy:  99.27\n",
    "3.   Best Test Accuracy:  99.41%\n",
    "\n",
    "## Conclusion \n",
    "\n",
    "\n",
    "*   Model is not overfitting\n",
    "*   Less than 10k params used.\n"
   ]
  },
  {
   "cell_type": "code",
   "metadata": {
    "id": "QlK5zAJa2oK5"
   },
   "source": [
    "from __future__ import print_function\n",
    "import torch\n",
    "import torch.nn as nn\n",
    "import torch.nn.functional as F\n",
    "import torch.optim as optim\n",
    "from torchvision import datasets, transforms"
   ],
   "execution_count": 61,
   "outputs": []
  },
  {
   "cell_type": "markdown",
   "metadata": {
    "id": "bvNHqL2YIhT_"
   },
   "source": [
    "# The model"
   ]
  },
  {
   "cell_type": "code",
   "metadata": {
    "id": "BXqqr6DW2tAs"
   },
   "source": [
    "dropout_value = 0.02\n",
    "class Net(nn.Module):\n",
    "    def __init__(self):\n",
    "        super(Net, self).__init__()\n",
    "\n",
    "        # Input Block\n",
    "        # input_size - 28 , output_size - 26 , RF - 3 , batch_norm - 8 , out_channels - 8 ,  padding = 0\n",
    "        self.convblock1 = nn.Sequential(\n",
    "            nn.Conv2d(in_channels=1, out_channels=8, kernel_size=(3, 3), padding=0, bias=False),\n",
    "            nn.ReLU(),\n",
    "            nn.BatchNorm2d(8),\n",
    "            nn.Dropout(dropout_value)\n",
    "        )\n",
    "\n",
    "        # CONVOLUTION BLOCK 1\n",
    "        # input_size - 26 , output_size - 24 , RF - 5 , batch_norm - 32 , out_channels - 32 ,  padding = 0\n",
    "        self.convblock2 = nn.Sequential(\n",
    "            nn.Conv2d(in_channels=8, out_channels=10, kernel_size=(3, 3), padding=0, bias=False),\n",
    "            nn.ReLU(),\n",
    "            nn.BatchNorm2d(10),\n",
    "            nn.Dropout(dropout_value)\n",
    "        )\n",
    "\n",
    "        # TRANSITION BLOCK 1\n",
    "        # input_size - 24 , output_size - 24\n",
    "        # self.convblock3 = nn.Sequential(\n",
    "        #     nn.Conv2d(in_channels=10, out_channels=4, kernel_size=(1, 1), padding=0, bias=False),\n",
    "        # ) \n",
    "        # input_size - 24 , output_size - 12 , RF - 10\n",
    "        self.pool1 = nn.MaxPool2d(2, 2) \n",
    "\n",
    "        # CONVOLUTION BLOCK 3\n",
    "        # input_size - 12 , output_size - 10 , RF - 12 , batch_norm - 32 , out_channels - 16 ,  padding = 0\n",
    "        self.convblock3 = nn.Sequential(\n",
    "            nn.Conv2d(in_channels=10, out_channels=12, kernel_size=(3, 3), padding=0, bias=False),\n",
    "            nn.ReLU(),            \n",
    "            nn.BatchNorm2d(12),\n",
    "            nn.Dropout(dropout_value)\n",
    "        ) \n",
    "\n",
    "        # CONVOLUTION BLOCK 4\n",
    "        # input_size - 10 , output_size - 8 , RF - 14 , batch_norm - 16 , out_channels - 16 ,  padding = 0\n",
    "        self.convblock4 = nn.Sequential(\n",
    "            nn.Conv2d(in_channels=12, out_channels=14, kernel_size=(3, 3), padding=0, bias=False),\n",
    "            nn.ReLU(),            \n",
    "            nn.BatchNorm2d(14),\n",
    "            nn.Dropout(dropout_value)\n",
    "        )\n",
    "\n",
    "        # CONVOLUTION BLOCK 5\n",
    "        # input_size - 8 , output_size - 6 , RF - 16 , batch_norm - 16 , out_channels - 16 ,  padding = 0\n",
    "        self.convblock5 = nn.Sequential(\n",
    "            nn.Conv2d(in_channels=14, out_channels=16, kernel_size=(3, 3), padding=0, bias=False),\n",
    "            nn.ReLU(),            \n",
    "            nn.BatchNorm2d(16),\n",
    "            nn.Dropout(dropout_value)\n",
    "        ) \n",
    "\n",
    "        # CONVOLUTION BLOCK 6\n",
    "        # input_size - 6 , output_size - 4 , RF - 18 , batch_norm - 16 , out_channels - 16 ,  padding = 0\n",
    "        self.convblock6 = nn.Sequential(\n",
    "            nn.Conv2d(in_channels=16, out_channels=16, kernel_size=(3, 3), padding=0, bias=False),\n",
    "            nn.ReLU(),            \n",
    "            nn.BatchNorm2d(16),\n",
    "            nn.Dropout(dropout_value)\n",
    "        )\n",
    "        \n",
    "        # OUTPUT BLOCK\n",
    "        self.gap = nn.Sequential(\n",
    "            nn.AvgPool2d(kernel_size=4)\n",
    "        ) \n",
    "\n",
    "        # CONVOLUTION BLOCK 7\n",
    "        # input_size - 8 , output_size - 6 , RF - 18 , batch_norm - 16 , out_channels - 16 ,  padding = 0\n",
    "        self.convblock7 = nn.Sequential(\n",
    "            nn.Conv2d(in_channels=16, out_channels=10, kernel_size=(1, 1), padding=0, bias=False),\n",
    "        )\n",
    "\n",
    "\n",
    "    def forward(self, x):\n",
    "        x = self.convblock1(x)\n",
    "        x = self.convblock2(x)\n",
    "        # x = self.convblock3(x)\n",
    "        x = self.pool1(x)\n",
    "        x = self.convblock3(x)\n",
    "        x = self.convblock4(x)\n",
    "        x = self.convblock5(x)\n",
    "        x = self.convblock6(x)\n",
    "        x = self.gap(x)        \n",
    "        x = self.convblock7(x)\n",
    "\n",
    "        x = x.view(-1, 10)\n",
    "        return F.log_softmax(x, dim=-1)"
   ],
   "execution_count": 110,
   "outputs": []
  },
  {
   "cell_type": "code",
   "metadata": {
    "colab": {
     "base_uri": "https://localhost:8080/"
    },
    "id": "_nlSNr2C3_WO",
    "outputId": "91e6dcaa-4bea-4ca2-da98-5d4bc27de93c"
   },
   "source": [
    "!pip install torchsummary\n",
    "from torchsummary import summary\n",
    "use_cuda = torch.cuda.is_available()\n",
    "device = torch.device(\"cuda\" if use_cuda else \"cpu\")\n",
    "model = Net().to(device)\n",
    "summary(model, input_size=(1, 28, 28))"
   ],
   "execution_count": 100,
   "outputs": [
    {
     "output_type": "stream",
     "text": [
      "Requirement already satisfied: torchsummary in /usr/local/lib/python3.6/dist-packages (1.5.1)\n",
      "----------------------------------------------------------------\n",
      "        Layer (type)               Output Shape         Param #\n",
      "================================================================\n",
      "            Conv2d-1            [-1, 8, 26, 26]              72\n",
      "              ReLU-2            [-1, 8, 26, 26]               0\n",
      "       BatchNorm2d-3            [-1, 8, 26, 26]              16\n",
      "         Dropout2d-4            [-1, 8, 26, 26]               0\n",
      "            Conv2d-5           [-1, 10, 24, 24]             720\n",
      "              ReLU-6           [-1, 10, 24, 24]               0\n",
      "       BatchNorm2d-7           [-1, 10, 24, 24]              20\n",
      "         Dropout2d-8           [-1, 10, 24, 24]               0\n",
      "         MaxPool2d-9           [-1, 10, 12, 12]               0\n",
      "           Conv2d-10           [-1, 12, 10, 10]           1,080\n",
      "             ReLU-11           [-1, 12, 10, 10]               0\n",
      "      BatchNorm2d-12           [-1, 12, 10, 10]              24\n",
      "        Dropout2d-13           [-1, 12, 10, 10]               0\n",
      "           Conv2d-14             [-1, 14, 8, 8]           1,512\n",
      "             ReLU-15             [-1, 14, 8, 8]               0\n",
      "      BatchNorm2d-16             [-1, 14, 8, 8]              28\n",
      "        Dropout2d-17             [-1, 14, 8, 8]               0\n",
      "           Conv2d-18             [-1, 16, 8, 8]           2,016\n",
      "             ReLU-19             [-1, 16, 8, 8]               0\n",
      "      BatchNorm2d-20             [-1, 16, 8, 8]              32\n",
      "          Dropout-21             [-1, 16, 8, 8]               0\n",
      "           Conv2d-22             [-1, 16, 6, 6]           2,304\n",
      "             ReLU-23             [-1, 16, 6, 6]               0\n",
      "      BatchNorm2d-24             [-1, 16, 6, 6]              32\n",
      "          Dropout-25             [-1, 16, 6, 6]               0\n",
      "        AvgPool2d-26             [-1, 16, 1, 1]               0\n",
      "           Conv2d-27             [-1, 10, 1, 1]             160\n",
      "================================================================\n",
      "Total params: 8,016\n",
      "Trainable params: 8,016\n",
      "Non-trainable params: 0\n",
      "----------------------------------------------------------------\n",
      "Input size (MB): 0.00\n",
      "Forward/backward pass size (MB): 0.46\n",
      "Params size (MB): 0.03\n",
      "Estimated Total Size (MB): 0.50\n",
      "----------------------------------------------------------------\n"
     ],
     "name": "stdout"
    }
   ]
  },
  {
   "cell_type": "markdown",
   "metadata": {
    "id": "oGTZGs7-Iz7X"
   },
   "source": [
    " # Data Transformations"
   ]
  },
  {
   "cell_type": "code",
   "metadata": {
    "id": "AulYK0mOJAHv"
   },
   "source": [
    "# Train Phase transformations\n",
    "train_transforms = transforms.Compose([\n",
    "                                      #  transforms.Resize((28, 28)),\n",
    "                                      #  transforms.ColorJitter(brightness=0.10, contrast=0.1, saturation=0.10, hue=0.1),\n",
    "                                       transforms.RandomRotation((-7.0, 7.0), fill=(1,)),\n",
    "                                       transforms.ToTensor(),\n",
    "                                       transforms.Normalize((0.1307,), (0.3081,)) # The mean and std have to be sequences (e.g., tuples), therefore you should add a comma after the values. \n",
    "                                       # Note the difference between (0.1307) and (0.1307,)\n",
    "                                       ])\n",
    "\n",
    "# Test Phase transformations\n",
    "test_transforms = transforms.Compose([\n",
    "                                      #  transforms.Resize((28, 28)),\n",
    "                                      #  transforms.ColorJitter(brightness=0.10, contrast=0.1, saturation=0.10, hue=0.1),\n",
    "                                       transforms.ToTensor(),\n",
    "                                       transforms.Normalize((0.1307,), (0.3081,))\n",
    "                                       ])"
   ],
   "execution_count": 101,
   "outputs": []
  },
  {
   "cell_type": "markdown",
   "metadata": {
    "id": "RYhHJoG7JIiE"
   },
   "source": [
    "# Dataset and Creating Train/Test Split"
   ]
  },
  {
   "cell_type": "code",
   "metadata": {
    "id": "TIWuawr2JN3u"
   },
   "source": [
    "train = datasets.MNIST('./data', train=True, download=True, transform=train_transforms)\n",
    "test = datasets.MNIST('./data', train=False, download=True, transform=test_transforms)"
   ],
   "execution_count": 102,
   "outputs": []
  },
  {
   "cell_type": "markdown",
   "metadata": {
    "id": "G1fOusIvJSh6"
   },
   "source": [
    "# Dataloader Arguments & Test/Train Dataloaders"
   ]
  },
  {
   "cell_type": "code",
   "metadata": {
    "colab": {
     "base_uri": "https://localhost:8080/"
    },
    "id": "vqhxbEDNJYDZ",
    "outputId": "2832e5da-8776-4ac3-9d73-a9ce0efcc014"
   },
   "source": [
    "SEED = 1\n",
    "\n",
    "# CUDA?\n",
    "cuda = torch.cuda.is_available()\n",
    "print(\"CUDA Available?\", cuda)\n",
    "\n",
    "# For reproducibility\n",
    "torch.manual_seed(SEED)\n",
    "\n",
    "if cuda:\n",
    "    torch.cuda.manual_seed(SEED)\n",
    "\n",
    "# dataloader arguments - something you'll fetch these from cmdprmt\n",
    "dataloader_args = dict(shuffle=True, batch_size=128, num_workers=4, pin_memory=True) if cuda else dict(shuffle=True, batch_size=64)\n",
    "\n",
    "# train dataloader\n",
    "train_loader = torch.utils.data.DataLoader(train, **dataloader_args)\n",
    "\n",
    "# test dataloader\n",
    "test_loader = torch.utils.data.DataLoader(test, **dataloader_args)"
   ],
   "execution_count": 103,
   "outputs": [
    {
     "output_type": "stream",
     "text": [
      "CUDA Available? True\n"
     ],
     "name": "stdout"
    }
   ]
  },
  {
   "cell_type": "markdown",
   "metadata": {
    "id": "CJkXKwAyJgTz"
   },
   "source": [
    "# Training and Testing"
   ]
  },
  {
   "cell_type": "code",
   "metadata": {
    "id": "zRqi8dXMJoEm"
   },
   "source": [
    "from tqdm import tqdm\n",
    "\n",
    "train_losses = []\n",
    "test_losses = []\n",
    "train_acc = []\n",
    "test_acc = []\n",
    "\n",
    "def train(model, device, train_loader, optimizer, epoch):\n",
    "  model.train()\n",
    "  pbar = tqdm(train_loader)\n",
    "  correct = 0\n",
    "  processed = 0\n",
    "  for batch_idx, (data, target) in enumerate(pbar):\n",
    "    # get samples\n",
    "    data, target = data.to(device), target.to(device)\n",
    "\n",
    "    # Init\n",
    "    optimizer.zero_grad()\n",
    "    # In PyTorch, we need to set the gradients to zero before starting to do backpropragation because PyTorch accumulates the gradients on subsequent backward passes. \n",
    "    # Because of this, when you start your training loop, ideally you should zero out the gradients so that you do the parameter update correctly.\n",
    "\n",
    "    # Predict\n",
    "    y_pred = model(data)\n",
    "\n",
    "    # Calculate loss\n",
    "    loss = F.nll_loss(y_pred, target)\n",
    "    train_losses.append(loss)\n",
    "\n",
    "    # Backpropagation\n",
    "    loss.backward()\n",
    "    optimizer.step()\n",
    "\n",
    "    # Update pbar-tqdm\n",
    "    \n",
    "    pred = y_pred.argmax(dim=1, keepdim=True)  # get the index of the max log-probability\n",
    "    correct += pred.eq(target.view_as(pred)).sum().item()\n",
    "    processed += len(data)\n",
    "\n",
    "    pbar.set_description(desc= f'Loss={loss.item()} Batch_id={batch_idx} Accuracy={100*correct/processed:0.2f}')\n",
    "    train_acc.append(100*correct/processed)\n",
    "\n",
    "def test(model, device, test_loader):\n",
    "    model.eval()\n",
    "    test_loss = 0\n",
    "    correct = 0\n",
    "    with torch.no_grad():\n",
    "        for data, target in test_loader:\n",
    "            data, target = data.to(device), target.to(device)\n",
    "            output = model(data)\n",
    "            test_loss += F.nll_loss(output, target, reduction='sum').item()  # sum up batch loss\n",
    "            pred = output.argmax(dim=1, keepdim=True)  # get the index of the max log-probability\n",
    "            correct += pred.eq(target.view_as(pred)).sum().item()\n",
    "\n",
    "    test_loss /= len(test_loader.dataset)\n",
    "    test_losses.append(test_loss)\n",
    "\n",
    "    print('\\nTest set: Average loss: {:.4f}, Accuracy: {}/{} ({:.2f}%)\\n'.format(\n",
    "        test_loss, correct, len(test_loader.dataset),\n",
    "        100. * correct / len(test_loader.dataset)))\n",
    "    \n",
    "    test_acc.append(100. * correct / len(test_loader.dataset))"
   ],
   "execution_count": 104,
   "outputs": []
  },
  {
   "cell_type": "markdown",
   "metadata": {
    "id": "ytfsA0L6Jrpa"
   },
   "source": [
    "# Train and test our model"
   ]
  },
  {
   "cell_type": "code",
   "metadata": {
    "colab": {
     "base_uri": "https://localhost:8080/"
    },
    "id": "OPvBJKU-J0cC",
    "outputId": "28ff1f38-12ce-4824-fa4d-0b8011ef811c"
   },
   "source": [
    "from torch.optim.lr_scheduler import StepLR\n",
    "\n",
    "model =  Net().to(device)\n",
    "optimizer = optim.SGD(model.parameters(), lr=0.01, momentum=0.9)\n",
    "scheduler = StepLR(optimizer, step_size=10, gamma=0.1)\n",
    "\n",
    "EPOCHS = 15\n",
    "for epoch in range(EPOCHS):\n",
    "    print(\"EPOCH:\", epoch)\n",
    "    train(model, device, train_loader, optimizer, epoch)\n",
    "    test(model, device, test_loader)"
   ],
   "execution_count": 109,
   "outputs": [
    {
     "output_type": "stream",
     "text": [
      "\r  0%|          | 0/469 [00:00<?, ?it/s]"
     ],
     "name": "stderr"
    },
    {
     "output_type": "stream",
     "text": [
      "EPOCH: 0\n"
     ],
     "name": "stdout"
    },
    {
     "output_type": "stream",
     "text": [
      "Loss=0.059611499309539795 Batch_id=468 Accuracy=91.20: 100%|██████████| 469/469 [00:17<00:00, 26.64it/s]\n",
      "  0%|          | 0/469 [00:00<?, ?it/s]"
     ],
     "name": "stderr"
    },
    {
     "output_type": "stream",
     "text": [
      "\n",
      "Test set: Average loss: 0.0635, Accuracy: 9833/10000 (98.33%)\n",
      "\n",
      "EPOCH: 1\n"
     ],
     "name": "stdout"
    },
    {
     "output_type": "stream",
     "text": [
      "Loss=0.08146659284830093 Batch_id=468 Accuracy=98.05: 100%|██████████| 469/469 [00:17<00:00, 26.74it/s]\n",
      "  0%|          | 0/469 [00:00<?, ?it/s]"
     ],
     "name": "stderr"
    },
    {
     "output_type": "stream",
     "text": [
      "\n",
      "Test set: Average loss: 0.0451, Accuracy: 9862/10000 (98.62%)\n",
      "\n",
      "EPOCH: 2\n"
     ],
     "name": "stdout"
    },
    {
     "output_type": "stream",
     "text": [
      "Loss=0.09468597918748856 Batch_id=468 Accuracy=98.45: 100%|██████████| 469/469 [00:17<00:00, 27.29it/s]\n",
      "  0%|          | 0/469 [00:00<?, ?it/s]"
     ],
     "name": "stderr"
    },
    {
     "output_type": "stream",
     "text": [
      "\n",
      "Test set: Average loss: 0.0317, Accuracy: 9901/10000 (99.01%)\n",
      "\n",
      "EPOCH: 3\n"
     ],
     "name": "stdout"
    },
    {
     "output_type": "stream",
     "text": [
      "Loss=0.041520483791828156 Batch_id=468 Accuracy=98.59: 100%|██████████| 469/469 [00:17<00:00, 27.32it/s]\n",
      "  0%|          | 0/469 [00:00<?, ?it/s]"
     ],
     "name": "stderr"
    },
    {
     "output_type": "stream",
     "text": [
      "\n",
      "Test set: Average loss: 0.0275, Accuracy: 9920/10000 (99.20%)\n",
      "\n",
      "EPOCH: 4\n"
     ],
     "name": "stdout"
    },
    {
     "output_type": "stream",
     "text": [
      "Loss=0.07164812833070755 Batch_id=468 Accuracy=98.85: 100%|██████████| 469/469 [00:17<00:00, 27.36it/s]\n",
      "  0%|          | 0/469 [00:00<?, ?it/s]"
     ],
     "name": "stderr"
    },
    {
     "output_type": "stream",
     "text": [
      "\n",
      "Test set: Average loss: 0.0292, Accuracy: 9913/10000 (99.13%)\n",
      "\n",
      "EPOCH: 5\n"
     ],
     "name": "stdout"
    },
    {
     "output_type": "stream",
     "text": [
      "Loss=0.0666830837726593 Batch_id=468 Accuracy=98.86: 100%|██████████| 469/469 [00:17<00:00, 27.44it/s]\n",
      "  0%|          | 0/469 [00:00<?, ?it/s]"
     ],
     "name": "stderr"
    },
    {
     "output_type": "stream",
     "text": [
      "\n",
      "Test set: Average loss: 0.0245, Accuracy: 9926/10000 (99.26%)\n",
      "\n",
      "EPOCH: 6\n"
     ],
     "name": "stdout"
    },
    {
     "output_type": "stream",
     "text": [
      "Loss=0.02193942666053772 Batch_id=468 Accuracy=98.99: 100%|██████████| 469/469 [00:16<00:00, 27.82it/s]\n",
      "  0%|          | 0/469 [00:00<?, ?it/s]"
     ],
     "name": "stderr"
    },
    {
     "output_type": "stream",
     "text": [
      "\n",
      "Test set: Average loss: 0.0279, Accuracy: 9905/10000 (99.05%)\n",
      "\n",
      "EPOCH: 7\n"
     ],
     "name": "stdout"
    },
    {
     "output_type": "stream",
     "text": [
      "Loss=0.025685207918286324 Batch_id=468 Accuracy=98.96: 100%|██████████| 469/469 [00:16<00:00, 28.01it/s]\n",
      "  0%|          | 0/469 [00:00<?, ?it/s]"
     ],
     "name": "stderr"
    },
    {
     "output_type": "stream",
     "text": [
      "\n",
      "Test set: Average loss: 0.0255, Accuracy: 9914/10000 (99.14%)\n",
      "\n",
      "EPOCH: 8\n"
     ],
     "name": "stdout"
    },
    {
     "output_type": "stream",
     "text": [
      "Loss=0.01969640702009201 Batch_id=468 Accuracy=99.03: 100%|██████████| 469/469 [00:16<00:00, 27.84it/s]\n",
      "  0%|          | 0/469 [00:00<?, ?it/s]"
     ],
     "name": "stderr"
    },
    {
     "output_type": "stream",
     "text": [
      "\n",
      "Test set: Average loss: 0.0248, Accuracy: 9919/10000 (99.19%)\n",
      "\n",
      "EPOCH: 9\n"
     ],
     "name": "stdout"
    },
    {
     "output_type": "stream",
     "text": [
      "Loss=0.007638873532414436 Batch_id=468 Accuracy=99.09: 100%|██████████| 469/469 [00:16<00:00, 27.82it/s]\n",
      "  0%|          | 0/469 [00:00<?, ?it/s]"
     ],
     "name": "stderr"
    },
    {
     "output_type": "stream",
     "text": [
      "\n",
      "Test set: Average loss: 0.0230, Accuracy: 9929/10000 (99.29%)\n",
      "\n",
      "EPOCH: 10\n"
     ],
     "name": "stdout"
    },
    {
     "output_type": "stream",
     "text": [
      "Loss=0.012278996407985687 Batch_id=468 Accuracy=99.13: 100%|██████████| 469/469 [00:16<00:00, 27.85it/s]\n",
      "  0%|          | 0/469 [00:00<?, ?it/s]"
     ],
     "name": "stderr"
    },
    {
     "output_type": "stream",
     "text": [
      "\n",
      "Test set: Average loss: 0.0214, Accuracy: 9929/10000 (99.29%)\n",
      "\n",
      "EPOCH: 11\n"
     ],
     "name": "stdout"
    },
    {
     "output_type": "stream",
     "text": [
      "Loss=0.0021886276081204414 Batch_id=468 Accuracy=99.24: 100%|██████████| 469/469 [00:16<00:00, 27.79it/s]\n",
      "  0%|          | 0/469 [00:00<?, ?it/s]"
     ],
     "name": "stderr"
    },
    {
     "output_type": "stream",
     "text": [
      "\n",
      "Test set: Average loss: 0.0198, Accuracy: 9933/10000 (99.33%)\n",
      "\n",
      "EPOCH: 12\n"
     ],
     "name": "stdout"
    },
    {
     "output_type": "stream",
     "text": [
      "Loss=0.01043692696839571 Batch_id=468 Accuracy=99.14: 100%|██████████| 469/469 [00:16<00:00, 27.79it/s]\n",
      "  0%|          | 0/469 [00:00<?, ?it/s]"
     ],
     "name": "stderr"
    },
    {
     "output_type": "stream",
     "text": [
      "\n",
      "Test set: Average loss: 0.0191, Accuracy: 9938/10000 (99.38%)\n",
      "\n",
      "EPOCH: 13\n"
     ],
     "name": "stdout"
    },
    {
     "output_type": "stream",
     "text": [
      "Loss=0.015334422700107098 Batch_id=468 Accuracy=99.23: 100%|██████████| 469/469 [00:16<00:00, 28.14it/s]\n",
      "  0%|          | 0/469 [00:00<?, ?it/s]"
     ],
     "name": "stderr"
    },
    {
     "output_type": "stream",
     "text": [
      "\n",
      "Test set: Average loss: 0.0205, Accuracy: 9936/10000 (99.36%)\n",
      "\n",
      "EPOCH: 14\n"
     ],
     "name": "stdout"
    },
    {
     "output_type": "stream",
     "text": [
      "Loss=0.003620186587795615 Batch_id=468 Accuracy=99.27: 100%|██████████| 469/469 [00:16<00:00, 27.94it/s]\n"
     ],
     "name": "stderr"
    },
    {
     "output_type": "stream",
     "text": [
      "\n",
      "Test set: Average loss: 0.0185, Accuracy: 9941/10000 (99.41%)\n",
      "\n"
     ],
     "name": "stdout"
    }
   ]
  }
 ]
}