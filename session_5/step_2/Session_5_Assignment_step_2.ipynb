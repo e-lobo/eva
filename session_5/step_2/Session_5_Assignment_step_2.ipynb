{
 "nbformat": 4,
 "nbformat_minor": 0,
 "metadata": {
  "colab": {
   "name": "Session_5_Assignment.ipynb",
   "provenance": [],
   "collapsed_sections": []
  },
  "kernelspec": {
   "name": "python3",
   "display_name": "Python 3"
  },
  "accelerator": "GPU"
 },
 "cells": [
  {
   "cell_type": "markdown",
   "metadata": {
    "id": "zeFmJk8KHwrM"
   },
   "source": [
    "# Import Libraries"
   ]
  },
  {
   "cell_type": "markdown",
   "metadata": {
    "id": "PPjsDqBUyg-3"
   },
   "source": [
    "# EVA 5 - Session 5 - Step 2\n",
    "## Target:\n",
    "\n",
    "1.   Lower params < 10,000\n",
    "\n",
    "## Results:\n",
    "\n",
    "1.   Parameters: 6,168\n",
    "2.   Best Training Accuracy: 99.05%\n",
    "3.   Best Test Accuracy: 99.01%\n",
    "\n",
    "## Conclusion \n",
    "\n",
    "*   Model is under-fitting\n",
    "*   Less than 10k params used.\n"
   ]
  },
  {
   "cell_type": "code",
   "metadata": {
    "id": "QlK5zAJa2oK5"
   },
   "source": [
    "from __future__ import print_function\n",
    "import torch\n",
    "import torch.nn as nn\n",
    "import torch.nn.functional as F\n",
    "import torch.optim as optim\n",
    "from torchvision import datasets, transforms"
   ],
   "execution_count": 61,
   "outputs": []
  },
  {
   "cell_type": "markdown",
   "metadata": {
    "id": "bvNHqL2YIhT_"
   },
   "source": [
    "# The model"
   ]
  },
  {
   "cell_type": "code",
   "metadata": {
    "id": "BXqqr6DW2tAs"
   },
   "source": [
    "dropout_value = 0.01\n",
    "class Net(nn.Module):\n",
    "    def __init__(self):\n",
    "        super(Net, self).__init__()\n",
    "\n",
    "        # Input Block\n",
    "        # input_size - 28 , output_size - 26 , RF - 3 , batch_norm - 8 , out_channels - 8\n",
    "        self.convblock1 = nn.Sequential(\n",
    "            nn.Conv2d(in_channels=1, out_channels=8, kernel_size=(3, 3), padding=0, bias=False),\n",
    "            nn.ReLU(),\n",
    "            nn.BatchNorm2d(8),\n",
    "            nn.Dropout(dropout_value)\n",
    "        )\n",
    "\n",
    "        # CONVOLUTION BLOCK 1\n",
    "        # input_size - 26 , output_size - 24 , RF - 5 , batch_norm - 10 , out_channels - 10\n",
    "        self.convblock2 = nn.Sequential(\n",
    "            nn.Conv2d(in_channels=8, out_channels=10, kernel_size=(3, 3), padding=0, bias=False),\n",
    "            nn.ReLU(),\n",
    "            nn.BatchNorm2d(10),\n",
    "            nn.Dropout(dropout_value)\n",
    "        )\n",
    "\n",
    "         # CONVOLUTION BLOCK 2\n",
    "        # input_size - 24 , output_size - 22 , RF - 7 , batch_norm - 12 , out_channels - 12\n",
    "        self.convblock3 = nn.Sequential(\n",
    "            nn.Conv2d(in_channels=10, out_channels=12, kernel_size=(3, 3), padding=0, bias=False),\n",
    "            nn.ReLU(),            \n",
    "            nn.BatchNorm2d(12),\n",
    "            nn.Dropout(dropout_value)\n",
    "        )\n",
    "\n",
    "        # CONVOLUTION BLOCK 3\n",
    "        # input_size - 22 , output_size - 20 , RF - 9 , batch_norm - 14 , out_channels - 14\n",
    "        self.convblock4 = nn.Sequential(\n",
    "            nn.Conv2d(in_channels=12, out_channels=14, kernel_size=(3, 3), padding=0, bias=False),\n",
    "            nn.ReLU(),            \n",
    "            nn.BatchNorm2d(14),\n",
    "            nn.Dropout(dropout_value)\n",
    "        ) \n",
    "\n",
    "\n",
    "        # TRANSITION BLOCK 1\n",
    "        # input_size - 20 , output_size - 10 , RF - 18\n",
    "        self.convblock5 = nn.Sequential(\n",
    "            nn.Conv2d(in_channels=14, out_channels=4, kernel_size=(1, 1), padding=0, bias=False),\n",
    "        )\n",
    "        self.pool1 = nn.MaxPool2d(2, 2) \n",
    "\n",
    "\n",
    "        # CONVOLUTION BLOCK 4\n",
    "        # input_size - 10 , output_size - 8 , RF - 20 , batch_norm - 4 , out_channels - 6\n",
    "        self.convblock6 = nn.Sequential(\n",
    "            nn.Conv2d(in_channels=4, out_channels=6, kernel_size=(3, 3), padding=0, bias=False),\n",
    "            nn.ReLU(),            \n",
    "            nn.BatchNorm2d(6),\n",
    "            nn.Dropout(dropout_value)\n",
    "        ) \n",
    "\n",
    "        # CONVOLUTION BLOCK 5\n",
    "        # input_size - 8 , output_size - 6 , RF - 22 , batch_norm - 6 , out_channels - 8\n",
    "        self.convblock7 = nn.Sequential(\n",
    "            nn.Conv2d(in_channels=6, out_channels=8, kernel_size=(3, 3), padding=0, bias=False),\n",
    "            nn.ReLU(),            \n",
    "            nn.BatchNorm2d(8),\n",
    "            nn.Dropout(dropout_value)\n",
    "        )\n",
    "\n",
    "        # CONVOLUTION BLOCK 6\n",
    "        # input_size - 6 , output_size - 4 , RF - 24 , batch_norm - 10 , out_channels - 10\n",
    "        self.convblock8 = nn.Sequential(\n",
    "            nn.Conv2d(in_channels=8, out_channels=10, kernel_size=(3, 3), padding=0, bias=False),\n",
    "            nn.ReLU(),            \n",
    "            nn.BatchNorm2d(10),\n",
    "            nn.Dropout(dropout_value)\n",
    "        )\n",
    "\n",
    "        # CONVOLUTION BLOCK 7\n",
    "        # input_size - 4 , output_size - 2 , RF - 26 , batch_norm - 12 , out_channels - 12\n",
    "        self.convblock9 = nn.Sequential(\n",
    "            nn.Conv2d(in_channels=10, out_channels=12, kernel_size=(3, 3), padding=0, bias=False),\n",
    "            nn.ReLU(),            \n",
    "            nn.BatchNorm2d(12),\n",
    "            nn.Dropout(dropout_value)\n",
    "        )\n",
    "\n",
    "        # OUTPUT BLOCK\n",
    "        self.gap = nn.Sequential(\n",
    "            nn.AvgPool2d(kernel_size=2)\n",
    "        ) \n",
    "\n",
    "        # CONVOLUTION BLOCK 8\n",
    "        # input_size - 4 , output_size - 2 , RF - 28 , out_channels - 10 \n",
    "        self.convblock10 = nn.Sequential(\n",
    "            nn.Conv2d(in_channels=12, out_channels=10, kernel_size=(1, 1), padding=0, bias=False),\n",
    "        )\n",
    "\n",
    "\n",
    "    def forward(self, x):\n",
    "        x = self.convblock1(x)\n",
    "        x = self.convblock2(x)\n",
    "        x = self.convblock3(x)\n",
    "        x = self.convblock4(x)\n",
    "        x = self.convblock5(x)\n",
    "        x = self.pool1(x)\n",
    "        x = self.convblock6(x)\n",
    "        x = self.convblock7(x)\n",
    "        x = self.convblock8(x)\n",
    "        x = self.convblock9(x)\n",
    "        x = self.gap(x)\n",
    "        x = self.convblock10(x)        \n",
    "\n",
    "        x = x.view(-1, 10)\n",
    "        return F.log_softmax(x, dim=-1)"
   ],
   "execution_count": 190,
   "outputs": []
  },
  {
   "cell_type": "code",
   "metadata": {
    "colab": {
     "base_uri": "https://localhost:8080/"
    },
    "id": "_nlSNr2C3_WO",
    "outputId": "c2a2152f-bd92-4252-9b35-34a404fa1eb0"
   },
   "source": [
    "!pip install torchsummary\n",
    "from torchsummary import summary\n",
    "use_cuda = torch.cuda.is_available()\n",
    "device = torch.device(\"cuda\" if use_cuda else \"cpu\")\n",
    "model = Net().to(device)\n",
    "summary(model, input_size=(1, 28, 28))"
   ],
   "execution_count": 191,
   "outputs": [
    {
     "output_type": "stream",
     "text": [
      "Requirement already satisfied: torchsummary in /usr/local/lib/python3.6/dist-packages (1.5.1)\n",
      "----------------------------------------------------------------\n",
      "        Layer (type)               Output Shape         Param #\n",
      "================================================================\n",
      "            Conv2d-1            [-1, 8, 26, 26]              72\n",
      "              ReLU-2            [-1, 8, 26, 26]               0\n",
      "       BatchNorm2d-3            [-1, 8, 26, 26]              16\n",
      "           Dropout-4            [-1, 8, 26, 26]               0\n",
      "            Conv2d-5           [-1, 10, 24, 24]             720\n",
      "              ReLU-6           [-1, 10, 24, 24]               0\n",
      "       BatchNorm2d-7           [-1, 10, 24, 24]              20\n",
      "           Dropout-8           [-1, 10, 24, 24]               0\n",
      "            Conv2d-9           [-1, 12, 22, 22]           1,080\n",
      "             ReLU-10           [-1, 12, 22, 22]               0\n",
      "      BatchNorm2d-11           [-1, 12, 22, 22]              24\n",
      "          Dropout-12           [-1, 12, 22, 22]               0\n",
      "           Conv2d-13           [-1, 14, 20, 20]           1,512\n",
      "             ReLU-14           [-1, 14, 20, 20]               0\n",
      "      BatchNorm2d-15           [-1, 14, 20, 20]              28\n",
      "          Dropout-16           [-1, 14, 20, 20]               0\n",
      "           Conv2d-17            [-1, 4, 20, 20]              56\n",
      "        MaxPool2d-18            [-1, 4, 10, 10]               0\n",
      "           Conv2d-19              [-1, 6, 8, 8]             216\n",
      "             ReLU-20              [-1, 6, 8, 8]               0\n",
      "      BatchNorm2d-21              [-1, 6, 8, 8]              12\n",
      "          Dropout-22              [-1, 6, 8, 8]               0\n",
      "           Conv2d-23              [-1, 8, 6, 6]             432\n",
      "             ReLU-24              [-1, 8, 6, 6]               0\n",
      "      BatchNorm2d-25              [-1, 8, 6, 6]              16\n",
      "          Dropout-26              [-1, 8, 6, 6]               0\n",
      "           Conv2d-27             [-1, 10, 4, 4]             720\n",
      "             ReLU-28             [-1, 10, 4, 4]               0\n",
      "      BatchNorm2d-29             [-1, 10, 4, 4]              20\n",
      "          Dropout-30             [-1, 10, 4, 4]               0\n",
      "           Conv2d-31             [-1, 12, 2, 2]           1,080\n",
      "             ReLU-32             [-1, 12, 2, 2]               0\n",
      "      BatchNorm2d-33             [-1, 12, 2, 2]              24\n",
      "          Dropout-34             [-1, 12, 2, 2]               0\n",
      "        AvgPool2d-35             [-1, 12, 1, 1]               0\n",
      "           Conv2d-36             [-1, 10, 1, 1]             120\n",
      "================================================================\n",
      "Total params: 6,168\n",
      "Trainable params: 6,168\n",
      "Non-trainable params: 0\n",
      "----------------------------------------------------------------\n",
      "Input size (MB): 0.00\n",
      "Forward/backward pass size (MB): 0.73\n",
      "Params size (MB): 0.02\n",
      "Estimated Total Size (MB): 0.76\n",
      "----------------------------------------------------------------\n"
     ],
     "name": "stdout"
    }
   ]
  },
  {
   "cell_type": "markdown",
   "metadata": {
    "id": "oGTZGs7-Iz7X"
   },
   "source": [
    " # Data Transformations"
   ]
  },
  {
   "cell_type": "code",
   "metadata": {
    "id": "AulYK0mOJAHv"
   },
   "source": [
    "# Train Phase transformations\n",
    "train_transforms = transforms.Compose([\n",
    "                                      #  transforms.Resize((28, 28)),\n",
    "                                      #  transforms.ColorJitter(brightness=0.10, contrast=0.1, saturation=0.10, hue=0.1),\n",
    "                                       transforms.ToTensor(),\n",
    "                                       transforms.Normalize((0.1307,), (0.3081,)) # The mean and std have to be sequences (e.g., tuples), therefore you should add a comma after the values. \n",
    "                                       # Note the difference between (0.1307) and (0.1307,)\n",
    "                                       ])\n",
    "\n",
    "# Test Phase transformations\n",
    "test_transforms = transforms.Compose([\n",
    "                                      #  transforms.Resize((28, 28)),\n",
    "                                      #  transforms.ColorJitter(brightness=0.10, contrast=0.1, saturation=0.10, hue=0.1),\n",
    "                                       transforms.ToTensor(),\n",
    "                                       transforms.Normalize((0.1307,), (0.3081,))\n",
    "                                       ])"
   ],
   "execution_count": 192,
   "outputs": []
  },
  {
   "cell_type": "markdown",
   "metadata": {
    "id": "RYhHJoG7JIiE"
   },
   "source": [
    "# Dataset and Creating Train/Test Split"
   ]
  },
  {
   "cell_type": "code",
   "metadata": {
    "id": "TIWuawr2JN3u"
   },
   "source": [
    "train = datasets.MNIST('./data', train=True, download=True, transform=train_transforms)\n",
    "test = datasets.MNIST('./data', train=False, download=True, transform=test_transforms)"
   ],
   "execution_count": 193,
   "outputs": []
  },
  {
   "cell_type": "markdown",
   "metadata": {
    "id": "G1fOusIvJSh6"
   },
   "source": [
    "# Dataloader Arguments & Test/Train Dataloaders"
   ]
  },
  {
   "cell_type": "code",
   "metadata": {
    "colab": {
     "base_uri": "https://localhost:8080/"
    },
    "id": "vqhxbEDNJYDZ",
    "outputId": "146f5aa2-87fb-4024-c32d-9c94c229009e"
   },
   "source": [
    "SEED = 1\n",
    "\n",
    "# CUDA?\n",
    "cuda = torch.cuda.is_available()\n",
    "print(\"CUDA Available?\", cuda)\n",
    "\n",
    "# For reproducibility\n",
    "torch.manual_seed(SEED)\n",
    "\n",
    "if cuda:\n",
    "    torch.cuda.manual_seed(SEED)\n",
    "\n",
    "# dataloader arguments - something you'll fetch these from cmdprmt\n",
    "dataloader_args = dict(shuffle=True, batch_size=128, num_workers=4, pin_memory=True) if cuda else dict(shuffle=True, batch_size=64)\n",
    "\n",
    "# train dataloader\n",
    "train_loader = torch.utils.data.DataLoader(train, **dataloader_args)\n",
    "\n",
    "# test dataloader\n",
    "test_loader = torch.utils.data.DataLoader(test, **dataloader_args)"
   ],
   "execution_count": 194,
   "outputs": [
    {
     "output_type": "stream",
     "text": [
      "CUDA Available? True\n"
     ],
     "name": "stdout"
    }
   ]
  },
  {
   "cell_type": "markdown",
   "metadata": {
    "id": "CJkXKwAyJgTz"
   },
   "source": [
    "# Training and Testing"
   ]
  },
  {
   "cell_type": "code",
   "metadata": {
    "id": "zRqi8dXMJoEm"
   },
   "source": [
    "from tqdm import tqdm\n",
    "\n",
    "train_losses = []\n",
    "test_losses = []\n",
    "train_acc = []\n",
    "test_acc = []\n",
    "\n",
    "def train(model, device, train_loader, optimizer, epoch):\n",
    "  model.train()\n",
    "  pbar = tqdm(train_loader)\n",
    "  correct = 0\n",
    "  processed = 0\n",
    "  for batch_idx, (data, target) in enumerate(pbar):\n",
    "    # get samples\n",
    "    data, target = data.to(device), target.to(device)\n",
    "\n",
    "    # Init\n",
    "    optimizer.zero_grad()\n",
    "    # In PyTorch, we need to set the gradients to zero before starting to do backpropragation because PyTorch accumulates the gradients on subsequent backward passes. \n",
    "    # Because of this, when you start your training loop, ideally you should zero out the gradients so that you do the parameter update correctly.\n",
    "\n",
    "    # Predict\n",
    "    y_pred = model(data)\n",
    "\n",
    "    # Calculate loss\n",
    "    loss = F.nll_loss(y_pred, target)\n",
    "    train_losses.append(loss)\n",
    "\n",
    "    # Backpropagation\n",
    "    loss.backward()\n",
    "    optimizer.step()\n",
    "\n",
    "    # Update pbar-tqdm\n",
    "    \n",
    "    pred = y_pred.argmax(dim=1, keepdim=True)  # get the index of the max log-probability\n",
    "    correct += pred.eq(target.view_as(pred)).sum().item()\n",
    "    processed += len(data)\n",
    "\n",
    "    pbar.set_description(desc= f'Loss={loss.item()} Batch_id={batch_idx} Accuracy={100*correct/processed:0.2f}')\n",
    "    train_acc.append(100*correct/processed)\n",
    "\n",
    "def test(model, device, test_loader):\n",
    "    model.eval()\n",
    "    test_loss = 0\n",
    "    correct = 0\n",
    "    with torch.no_grad():\n",
    "        for data, target in test_loader:\n",
    "            data, target = data.to(device), target.to(device)\n",
    "            output = model(data)\n",
    "            test_loss += F.nll_loss(output, target, reduction='sum').item()  # sum up batch loss\n",
    "            pred = output.argmax(dim=1, keepdim=True)  # get the index of the max log-probability\n",
    "            correct += pred.eq(target.view_as(pred)).sum().item()\n",
    "\n",
    "    test_loss /= len(test_loader.dataset)\n",
    "    test_losses.append(test_loss)\n",
    "\n",
    "    print('\\nTest set: Average loss: {:.4f}, Accuracy: {}/{} ({:.2f}%)\\n'.format(\n",
    "        test_loss, correct, len(test_loader.dataset),\n",
    "        100. * correct / len(test_loader.dataset)))\n",
    "    \n",
    "    test_acc.append(100. * correct / len(test_loader.dataset))"
   ],
   "execution_count": 195,
   "outputs": []
  },
  {
   "cell_type": "markdown",
   "metadata": {
    "id": "ytfsA0L6Jrpa"
   },
   "source": [
    "# Train and test our model"
   ]
  },
  {
   "cell_type": "code",
   "metadata": {
    "colab": {
     "base_uri": "https://localhost:8080/"
    },
    "id": "OPvBJKU-J0cC",
    "outputId": "a6053af0-66cb-42f0-dabe-e0ae4d029d08"
   },
   "source": [
    "model =  Net().to(device)\n",
    "optimizer = optim.SGD(model.parameters(), lr=0.01, momentum=0.9)\n",
    "\n",
    "EPOCHS = 15\n",
    "for epoch in range(EPOCHS):\n",
    "    print(\"EPOCH:\", epoch)\n",
    "    train(model, device, train_loader, optimizer, epoch)\n",
    "    test(model, device, test_loader)"
   ],
   "execution_count": 196,
   "outputs": [
    {
     "output_type": "stream",
     "text": [
      "\r  0%|          | 0/469 [00:00<?, ?it/s]"
     ],
     "name": "stderr"
    },
    {
     "output_type": "stream",
     "text": [
      "EPOCH: 0\n"
     ],
     "name": "stdout"
    },
    {
     "output_type": "stream",
     "text": [
      "Loss=0.09713664650917053 Batch_id=468 Accuracy=90.90: 100%|██████████| 469/469 [00:14<00:00, 32.44it/s]\n",
      "  0%|          | 0/469 [00:00<?, ?it/s]"
     ],
     "name": "stderr"
    },
    {
     "output_type": "stream",
     "text": [
      "\n",
      "Test set: Average loss: 0.0779, Accuracy: 9773/10000 (97.73%)\n",
      "\n",
      "EPOCH: 1\n"
     ],
     "name": "stdout"
    },
    {
     "output_type": "stream",
     "text": [
      "Loss=0.06812860816717148 Batch_id=468 Accuracy=97.76: 100%|██████████| 469/469 [00:14<00:00, 32.51it/s]\n",
      "  0%|          | 0/469 [00:00<?, ?it/s]"
     ],
     "name": "stderr"
    },
    {
     "output_type": "stream",
     "text": [
      "\n",
      "Test set: Average loss: 0.0576, Accuracy: 9825/10000 (98.25%)\n",
      "\n",
      "EPOCH: 2\n"
     ],
     "name": "stdout"
    },
    {
     "output_type": "stream",
     "text": [
      "Loss=0.12730561196804047 Batch_id=468 Accuracy=98.17: 100%|██████████| 469/469 [00:14<00:00, 32.57it/s]\n",
      "  0%|          | 0/469 [00:00<?, ?it/s]"
     ],
     "name": "stderr"
    },
    {
     "output_type": "stream",
     "text": [
      "\n",
      "Test set: Average loss: 0.0585, Accuracy: 9827/10000 (98.27%)\n",
      "\n",
      "EPOCH: 3\n"
     ],
     "name": "stdout"
    },
    {
     "output_type": "stream",
     "text": [
      "Loss=0.03402363881468773 Batch_id=468 Accuracy=98.36: 100%|██████████| 469/469 [00:14<00:00, 32.03it/s]\n",
      "  0%|          | 0/469 [00:00<?, ?it/s]"
     ],
     "name": "stderr"
    },
    {
     "output_type": "stream",
     "text": [
      "\n",
      "Test set: Average loss: 0.0461, Accuracy: 9862/10000 (98.62%)\n",
      "\n",
      "EPOCH: 4\n"
     ],
     "name": "stdout"
    },
    {
     "output_type": "stream",
     "text": [
      "Loss=0.013965059071779251 Batch_id=468 Accuracy=98.54: 100%|██████████| 469/469 [00:14<00:00, 32.42it/s]\n",
      "  0%|          | 0/469 [00:00<?, ?it/s]"
     ],
     "name": "stderr"
    },
    {
     "output_type": "stream",
     "text": [
      "\n",
      "Test set: Average loss: 0.0386, Accuracy: 9871/10000 (98.71%)\n",
      "\n",
      "EPOCH: 5\n"
     ],
     "name": "stdout"
    },
    {
     "output_type": "stream",
     "text": [
      "Loss=0.06731521338224411 Batch_id=468 Accuracy=98.66: 100%|██████████| 469/469 [00:14<00:00, 32.49it/s]\n",
      "  0%|          | 0/469 [00:00<?, ?it/s]"
     ],
     "name": "stderr"
    },
    {
     "output_type": "stream",
     "text": [
      "\n",
      "Test set: Average loss: 0.0397, Accuracy: 9880/10000 (98.80%)\n",
      "\n",
      "EPOCH: 6\n"
     ],
     "name": "stdout"
    },
    {
     "output_type": "stream",
     "text": [
      "Loss=0.02241741679608822 Batch_id=468 Accuracy=98.73: 100%|██████████| 469/469 [00:14<00:00, 32.49it/s]\n",
      "  0%|          | 0/469 [00:00<?, ?it/s]"
     ],
     "name": "stderr"
    },
    {
     "output_type": "stream",
     "text": [
      "\n",
      "Test set: Average loss: 0.0326, Accuracy: 9892/10000 (98.92%)\n",
      "\n",
      "EPOCH: 7\n"
     ],
     "name": "stdout"
    },
    {
     "output_type": "stream",
     "text": [
      "Loss=0.0076337880454957485 Batch_id=468 Accuracy=98.83: 100%|██████████| 469/469 [00:14<00:00, 32.70it/s]\n",
      "  0%|          | 0/469 [00:00<?, ?it/s]"
     ],
     "name": "stderr"
    },
    {
     "output_type": "stream",
     "text": [
      "\n",
      "Test set: Average loss: 0.0382, Accuracy: 9880/10000 (98.80%)\n",
      "\n",
      "EPOCH: 8\n"
     ],
     "name": "stdout"
    },
    {
     "output_type": "stream",
     "text": [
      "Loss=0.07759807258844376 Batch_id=468 Accuracy=98.89: 100%|██████████| 469/469 [00:14<00:00, 32.54it/s]\n",
      "  0%|          | 0/469 [00:00<?, ?it/s]"
     ],
     "name": "stderr"
    },
    {
     "output_type": "stream",
     "text": [
      "\n",
      "Test set: Average loss: 0.0416, Accuracy: 9860/10000 (98.60%)\n",
      "\n",
      "EPOCH: 9\n"
     ],
     "name": "stdout"
    },
    {
     "output_type": "stream",
     "text": [
      "Loss=0.016490275040268898 Batch_id=468 Accuracy=98.94: 100%|██████████| 469/469 [00:14<00:00, 32.70it/s]\n",
      "  0%|          | 0/469 [00:00<?, ?it/s]"
     ],
     "name": "stderr"
    },
    {
     "output_type": "stream",
     "text": [
      "\n",
      "Test set: Average loss: 0.0316, Accuracy: 9899/10000 (98.99%)\n",
      "\n",
      "EPOCH: 10\n"
     ],
     "name": "stdout"
    },
    {
     "output_type": "stream",
     "text": [
      "Loss=0.0033021168783307076 Batch_id=468 Accuracy=99.00: 100%|██████████| 469/469 [00:14<00:00, 32.52it/s]\n",
      "  0%|          | 0/469 [00:00<?, ?it/s]"
     ],
     "name": "stderr"
    },
    {
     "output_type": "stream",
     "text": [
      "\n",
      "Test set: Average loss: 0.0332, Accuracy: 9897/10000 (98.97%)\n",
      "\n",
      "EPOCH: 11\n"
     ],
     "name": "stdout"
    },
    {
     "output_type": "stream",
     "text": [
      "Loss=0.006809683982282877 Batch_id=468 Accuracy=99.06: 100%|██████████| 469/469 [00:14<00:00, 32.96it/s]\n",
      "  0%|          | 0/469 [00:00<?, ?it/s]"
     ],
     "name": "stderr"
    },
    {
     "output_type": "stream",
     "text": [
      "\n",
      "Test set: Average loss: 0.0324, Accuracy: 9890/10000 (98.90%)\n",
      "\n",
      "EPOCH: 12\n"
     ],
     "name": "stdout"
    },
    {
     "output_type": "stream",
     "text": [
      "Loss=0.008527982048690319 Batch_id=468 Accuracy=99.05: 100%|██████████| 469/469 [00:14<00:00, 32.22it/s]\n",
      "  0%|          | 0/469 [00:00<?, ?it/s]"
     ],
     "name": "stderr"
    },
    {
     "output_type": "stream",
     "text": [
      "\n",
      "Test set: Average loss: 0.0307, Accuracy: 9899/10000 (98.99%)\n",
      "\n",
      "EPOCH: 13\n"
     ],
     "name": "stdout"
    },
    {
     "output_type": "stream",
     "text": [
      "Loss=0.015000994317233562 Batch_id=468 Accuracy=99.01: 100%|██████████| 469/469 [00:14<00:00, 32.50it/s]\n",
      "  0%|          | 0/469 [00:00<?, ?it/s]"
     ],
     "name": "stderr"
    },
    {
     "output_type": "stream",
     "text": [
      "\n",
      "Test set: Average loss: 0.0317, Accuracy: 9897/10000 (98.97%)\n",
      "\n",
      "EPOCH: 14\n"
     ],
     "name": "stdout"
    },
    {
     "output_type": "stream",
     "text": [
      "Loss=0.04153772443532944 Batch_id=468 Accuracy=99.14: 100%|██████████| 469/469 [00:14<00:00, 32.39it/s]\n"
     ],
     "name": "stderr"
    },
    {
     "output_type": "stream",
     "text": [
      "\n",
      "Test set: Average loss: 0.0302, Accuracy: 9901/10000 (99.01%)\n",
      "\n"
     ],
     "name": "stdout"
    }
   ]
  }
 ]
}