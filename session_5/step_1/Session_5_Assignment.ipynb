{
 "nbformat": 4,
 "nbformat_minor": 0,
 "metadata": {
  "colab": {
   "name": "Session_5_Assignment.ipynb",
   "provenance": [],
   "collapsed_sections": []
  },
  "kernelspec": {
   "name": "python3",
   "display_name": "Python 3"
  },
  "accelerator": "GPU"
 },
 "cells": [
  {
   "cell_type": "markdown",
   "metadata": {
    "id": "zeFmJk8KHwrM"
   },
   "source": [
    "# Import Libraries"
   ]
  },
  {
   "cell_type": "markdown",
   "metadata": {
    "id": "PPjsDqBUyg-3"
   },
   "source": [
    "# EVA 5 - Session 5 - Step 1\n",
    "## Target:\n",
    "\n",
    "1.   Set up a working model with Gap , 1x1 convolution , dropout & batch norm\n",
    "\n",
    "## Results:\n",
    "\n",
    "\n",
    "1.   Parameters: 1,970,272\n",
    "2.   Best Training Accuracy: 100%\n",
    "3.   Best Test Accuracy: 99.57%\n",
    "\n",
    "## Conclusion \n",
    "\n",
    "\n",
    "*   Model is over-fitting\n",
    "*   Less than 10k params used.\n",
    "*   Max testing accuracy achieved and can never increase since 100% accuracy achieved in training.\n",
    "*   Model has too many params.\n"
   ]
  },
  {
   "cell_type": "code",
   "metadata": {
    "id": "QlK5zAJa2oK5"
   },
   "source": [
    "from __future__ import print_function\n",
    "import torch\n",
    "import torch.nn as nn\n",
    "import torch.nn.functional as F\n",
    "import torch.optim as optim\n",
    "from torchvision import datasets, transforms"
   ],
   "execution_count": 61,
   "outputs": []
  },
  {
   "cell_type": "markdown",
   "metadata": {
    "id": "bvNHqL2YIhT_"
   },
   "source": [
    "# The model"
   ]
  },
  {
   "cell_type": "code",
   "metadata": {
    "id": "BXqqr6DW2tAs"
   },
   "source": [
    "dropout_value = 0.01\n",
    "class Net(nn.Module):\n",
    "    def __init__(self):\n",
    "        super(Net, self).__init__()\n",
    "\n",
    "        # Input Block\n",
    "        # input_size - 28 , output_size - 26 , RF - 3 , batch_norm - 32 , out_channels - 32\n",
    "        self.convblock1 = nn.Sequential(\n",
    "            nn.Conv2d(in_channels=1, out_channels=32, kernel_size=(3, 3), padding=0, bias=False),\n",
    "            nn.ReLU(),\n",
    "            nn.BatchNorm2d(32),\n",
    "            nn.Dropout(dropout_value)\n",
    "        )\n",
    "\n",
    "        # CONVOLUTION BLOCK 1\n",
    "        # input_size - 26 , output_size - 24 , RF - 5 , batch_norm - 64 , out_channels - 64\n",
    "        self.convblock2 = nn.Sequential(\n",
    "            nn.Conv2d(in_channels=32, out_channels=64, kernel_size=(3, 3), padding=0, bias=False),\n",
    "            nn.ReLU(),\n",
    "            nn.BatchNorm2d(64),\n",
    "            nn.Dropout(dropout_value)\n",
    "        )\n",
    "\n",
    "         # CONVOLUTION BLOCK 2\n",
    "        # input_size - 24 , output_size - 22 , RF - 7 , batch_norm - 128 , out_channels - 256\n",
    "        self.convblock3 = nn.Sequential(\n",
    "            nn.Conv2d(in_channels=64, out_channels=128, kernel_size=(3, 3), padding=0, bias=False),\n",
    "            nn.ReLU(),            \n",
    "            nn.BatchNorm2d(128),\n",
    "            nn.Dropout(dropout_value)\n",
    "        )\n",
    "\n",
    "        # CONVOLUTION BLOCK 3\n",
    "        # input_size - 22 , output_size - 20 , RF - 9 , batch_norm - 256 , out_channels - 256\n",
    "        self.convblock4 = nn.Sequential(\n",
    "            nn.Conv2d(in_channels=128, out_channels=256, kernel_size=(3, 3), padding=0, bias=False),\n",
    "            nn.ReLU(),            \n",
    "            nn.BatchNorm2d(256),\n",
    "            nn.Dropout(dropout_value)\n",
    "        ) \n",
    "\n",
    "\n",
    "        # TRANSITION BLOCK 1\n",
    "        # input_size - 20 , output_size - 10 , RF - 18\n",
    "        self.convblock5 = nn.Sequential(\n",
    "            nn.Conv2d(in_channels=256, out_channels=32, kernel_size=(1, 1), padding=0, bias=False),\n",
    "        )\n",
    "        self.pool1 = nn.MaxPool2d(2, 2) \n",
    "\n",
    "\n",
    "        # CONVOLUTION BLOCK 4\n",
    "        # input_size - 10 , output_size - 8 , RF - 20 , batch_norm - 64 , out_channels - 64\n",
    "        self.convblock6 = nn.Sequential(\n",
    "            nn.Conv2d(in_channels=32, out_channels=64, kernel_size=(3, 3), padding=0, bias=False),\n",
    "            nn.ReLU(),            \n",
    "            nn.BatchNorm2d(64),\n",
    "            nn.Dropout(dropout_value)\n",
    "        ) \n",
    "\n",
    "        # CONVOLUTION BLOCK 5\n",
    "        # input_size - 8 , output_size - 6 , RF - 22 , batch_norm - 128 , out_channels - 128\n",
    "        self.convblock7 = nn.Sequential(\n",
    "            nn.Conv2d(in_channels=64, out_channels=128, kernel_size=(3, 3), padding=0, bias=False),\n",
    "            nn.ReLU(),            \n",
    "            nn.BatchNorm2d(128),\n",
    "            nn.Dropout(dropout_value)\n",
    "        )\n",
    "\n",
    "        # CONVOLUTION BLOCK 6\n",
    "        # input_size - 6 , output_size - 4 , RF - 24 , batch_norm - 256 , out_channels - 256\n",
    "        self.convblock8 = nn.Sequential(\n",
    "            nn.Conv2d(in_channels=128, out_channels=256, kernel_size=(3, 3), padding=0, bias=False),\n",
    "            nn.ReLU(),            \n",
    "            nn.BatchNorm2d(256),\n",
    "            nn.Dropout(dropout_value)\n",
    "        )\n",
    "\n",
    "        # CONVOLUTION BLOCK 7\n",
    "        # input_size - 4 , output_size - 2 , RF - 26 , batch_norm - 512 , out_channels - 512\n",
    "        self.convblock9 = nn.Sequential(\n",
    "            nn.Conv2d(in_channels=256, out_channels=512, kernel_size=(3, 3), padding=0, bias=False),\n",
    "            nn.ReLU(),            \n",
    "            nn.BatchNorm2d(512),\n",
    "            nn.Dropout(dropout_value)\n",
    "        )\n",
    "\n",
    "        # OUTPUT BLOCK\n",
    "        self.gap = nn.Sequential(\n",
    "            nn.AvgPool2d(kernel_size=2)\n",
    "        ) \n",
    "\n",
    "        # CONVOLUTION BLOCK 8\n",
    "        # input_size - 4 , output_size - 2 , RF - 28 , out_channels - 10 \n",
    "        self.convblock10 = nn.Sequential(\n",
    "            nn.Conv2d(in_channels=512, out_channels=10, kernel_size=(1, 1), padding=0, bias=False),\n",
    "        )\n",
    "\n",
    "\n",
    "    def forward(self, x):\n",
    "        x = self.convblock1(x)\n",
    "        x = self.convblock2(x)\n",
    "        x = self.convblock3(x)\n",
    "        x = self.convblock4(x)\n",
    "        x = self.convblock5(x)\n",
    "        x = self.pool1(x)\n",
    "        x = self.convblock6(x)\n",
    "        x = self.convblock7(x)\n",
    "        x = self.convblock8(x)\n",
    "        x = self.convblock9(x)\n",
    "        x = self.gap(x)\n",
    "        x = self.convblock10(x)        \n",
    "\n",
    "        x = x.view(-1, 10)\n",
    "        return F.log_softmax(x, dim=-1)"
   ],
   "execution_count": 183,
   "outputs": []
  },
  {
   "cell_type": "code",
   "metadata": {
    "colab": {
     "base_uri": "https://localhost:8080/"
    },
    "id": "_nlSNr2C3_WO",
    "outputId": "f6290cc8-d5a7-4c46-f845-92c832180ff3"
   },
   "source": [
    "!pip install torchsummary\n",
    "from torchsummary import summary\n",
    "use_cuda = torch.cuda.is_available()\n",
    "device = torch.device(\"cuda\" if use_cuda else \"cpu\")\n",
    "model = Net().to(device)\n",
    "summary(model, input_size=(1, 28, 28))"
   ],
   "execution_count": 184,
   "outputs": [
    {
     "output_type": "stream",
     "text": [
      "Requirement already satisfied: torchsummary in /usr/local/lib/python3.6/dist-packages (1.5.1)\n",
      "----------------------------------------------------------------\n",
      "        Layer (type)               Output Shape         Param #\n",
      "================================================================\n",
      "            Conv2d-1           [-1, 32, 26, 26]             288\n",
      "              ReLU-2           [-1, 32, 26, 26]               0\n",
      "       BatchNorm2d-3           [-1, 32, 26, 26]              64\n",
      "           Dropout-4           [-1, 32, 26, 26]               0\n",
      "            Conv2d-5           [-1, 64, 24, 24]          18,432\n",
      "              ReLU-6           [-1, 64, 24, 24]               0\n",
      "       BatchNorm2d-7           [-1, 64, 24, 24]             128\n",
      "           Dropout-8           [-1, 64, 24, 24]               0\n",
      "            Conv2d-9          [-1, 128, 22, 22]          73,728\n",
      "             ReLU-10          [-1, 128, 22, 22]               0\n",
      "      BatchNorm2d-11          [-1, 128, 22, 22]             256\n",
      "          Dropout-12          [-1, 128, 22, 22]               0\n",
      "           Conv2d-13          [-1, 256, 20, 20]         294,912\n",
      "             ReLU-14          [-1, 256, 20, 20]               0\n",
      "      BatchNorm2d-15          [-1, 256, 20, 20]             512\n",
      "          Dropout-16          [-1, 256, 20, 20]               0\n",
      "           Conv2d-17           [-1, 32, 20, 20]           8,192\n",
      "        MaxPool2d-18           [-1, 32, 10, 10]               0\n",
      "           Conv2d-19             [-1, 64, 8, 8]          18,432\n",
      "             ReLU-20             [-1, 64, 8, 8]               0\n",
      "      BatchNorm2d-21             [-1, 64, 8, 8]             128\n",
      "          Dropout-22             [-1, 64, 8, 8]               0\n",
      "           Conv2d-23            [-1, 128, 6, 6]          73,728\n",
      "             ReLU-24            [-1, 128, 6, 6]               0\n",
      "      BatchNorm2d-25            [-1, 128, 6, 6]             256\n",
      "          Dropout-26            [-1, 128, 6, 6]               0\n",
      "           Conv2d-27            [-1, 256, 4, 4]         294,912\n",
      "             ReLU-28            [-1, 256, 4, 4]               0\n",
      "      BatchNorm2d-29            [-1, 256, 4, 4]             512\n",
      "          Dropout-30            [-1, 256, 4, 4]               0\n",
      "           Conv2d-31            [-1, 512, 2, 2]       1,179,648\n",
      "             ReLU-32            [-1, 512, 2, 2]               0\n",
      "      BatchNorm2d-33            [-1, 512, 2, 2]           1,024\n",
      "          Dropout-34            [-1, 512, 2, 2]               0\n",
      "        AvgPool2d-35            [-1, 512, 1, 1]               0\n",
      "           Conv2d-36             [-1, 10, 1, 1]           5,120\n",
      "================================================================\n",
      "Total params: 1,970,272\n",
      "Trainable params: 1,970,272\n",
      "Non-trainable params: 0\n",
      "----------------------------------------------------------------\n",
      "Input size (MB): 0.00\n",
      "Forward/backward pass size (MB): 7.38\n",
      "Params size (MB): 7.52\n",
      "Estimated Total Size (MB): 14.90\n",
      "----------------------------------------------------------------\n"
     ],
     "name": "stdout"
    }
   ]
  },
  {
   "cell_type": "markdown",
   "metadata": {
    "id": "oGTZGs7-Iz7X"
   },
   "source": [
    " # Data Transformations"
   ]
  },
  {
   "cell_type": "code",
   "metadata": {
    "id": "AulYK0mOJAHv"
   },
   "source": [
    "# Train Phase transformations\n",
    "train_transforms = transforms.Compose([\n",
    "                                      #  transforms.Resize((28, 28)),\n",
    "                                      #  transforms.ColorJitter(brightness=0.10, contrast=0.1, saturation=0.10, hue=0.1),\n",
    "                                       transforms.ToTensor(),\n",
    "                                       transforms.Normalize((0.1307,), (0.3081,)) # The mean and std have to be sequences (e.g., tuples), therefore you should add a comma after the values. \n",
    "                                       # Note the difference between (0.1307) and (0.1307,)\n",
    "                                       ])\n",
    "\n",
    "# Test Phase transformations\n",
    "test_transforms = transforms.Compose([\n",
    "                                      #  transforms.Resize((28, 28)),\n",
    "                                      #  transforms.ColorJitter(brightness=0.10, contrast=0.1, saturation=0.10, hue=0.1),\n",
    "                                       transforms.ToTensor(),\n",
    "                                       transforms.Normalize((0.1307,), (0.3081,))\n",
    "                                       ])"
   ],
   "execution_count": 185,
   "outputs": []
  },
  {
   "cell_type": "markdown",
   "metadata": {
    "id": "RYhHJoG7JIiE"
   },
   "source": [
    "# Dataset and Creating Train/Test Split"
   ]
  },
  {
   "cell_type": "code",
   "metadata": {
    "id": "TIWuawr2JN3u"
   },
   "source": [
    "train = datasets.MNIST('./data', train=True, download=True, transform=train_transforms)\n",
    "test = datasets.MNIST('./data', train=False, download=True, transform=test_transforms)"
   ],
   "execution_count": 186,
   "outputs": []
  },
  {
   "cell_type": "markdown",
   "metadata": {
    "id": "G1fOusIvJSh6"
   },
   "source": [
    "# Dataloader Arguments & Test/Train Dataloaders"
   ]
  },
  {
   "cell_type": "code",
   "metadata": {
    "colab": {
     "base_uri": "https://localhost:8080/"
    },
    "id": "vqhxbEDNJYDZ",
    "outputId": "a9143da8-7bc8-462c-e5ea-597338430622"
   },
   "source": [
    "SEED = 1\n",
    "\n",
    "# CUDA?\n",
    "cuda = torch.cuda.is_available()\n",
    "print(\"CUDA Available?\", cuda)\n",
    "\n",
    "# For reproducibility\n",
    "torch.manual_seed(SEED)\n",
    "\n",
    "if cuda:\n",
    "    torch.cuda.manual_seed(SEED)\n",
    "\n",
    "# dataloader arguments - something you'll fetch these from cmdprmt\n",
    "dataloader_args = dict(shuffle=True, batch_size=128, num_workers=4, pin_memory=True) if cuda else dict(shuffle=True, batch_size=64)\n",
    "\n",
    "# train dataloader\n",
    "train_loader = torch.utils.data.DataLoader(train, **dataloader_args)\n",
    "\n",
    "# test dataloader\n",
    "test_loader = torch.utils.data.DataLoader(test, **dataloader_args)"
   ],
   "execution_count": 187,
   "outputs": [
    {
     "output_type": "stream",
     "text": [
      "CUDA Available? True\n"
     ],
     "name": "stdout"
    }
   ]
  },
  {
   "cell_type": "markdown",
   "metadata": {
    "id": "CJkXKwAyJgTz"
   },
   "source": [
    "# Training and Testing"
   ]
  },
  {
   "cell_type": "code",
   "metadata": {
    "id": "zRqi8dXMJoEm"
   },
   "source": [
    "from tqdm import tqdm\n",
    "\n",
    "train_losses = []\n",
    "test_losses = []\n",
    "train_acc = []\n",
    "test_acc = []\n",
    "\n",
    "def train(model, device, train_loader, optimizer, epoch):\n",
    "  model.train()\n",
    "  pbar = tqdm(train_loader)\n",
    "  correct = 0\n",
    "  processed = 0\n",
    "  for batch_idx, (data, target) in enumerate(pbar):\n",
    "    # get samples\n",
    "    data, target = data.to(device), target.to(device)\n",
    "\n",
    "    # Init\n",
    "    optimizer.zero_grad()\n",
    "    # In PyTorch, we need to set the gradients to zero before starting to do backpropragation because PyTorch accumulates the gradients on subsequent backward passes. \n",
    "    # Because of this, when you start your training loop, ideally you should zero out the gradients so that you do the parameter update correctly.\n",
    "\n",
    "    # Predict\n",
    "    y_pred = model(data)\n",
    "\n",
    "    # Calculate loss\n",
    "    loss = F.nll_loss(y_pred, target)\n",
    "    train_losses.append(loss)\n",
    "\n",
    "    # Backpropagation\n",
    "    loss.backward()\n",
    "    optimizer.step()\n",
    "\n",
    "    # Update pbar-tqdm\n",
    "    \n",
    "    pred = y_pred.argmax(dim=1, keepdim=True)  # get the index of the max log-probability\n",
    "    correct += pred.eq(target.view_as(pred)).sum().item()\n",
    "    processed += len(data)\n",
    "\n",
    "    pbar.set_description(desc= f'Loss={loss.item()} Batch_id={batch_idx} Accuracy={100*correct/processed:0.2f}')\n",
    "    train_acc.append(100*correct/processed)\n",
    "\n",
    "def test(model, device, test_loader):\n",
    "    model.eval()\n",
    "    test_loss = 0\n",
    "    correct = 0\n",
    "    with torch.no_grad():\n",
    "        for data, target in test_loader:\n",
    "            data, target = data.to(device), target.to(device)\n",
    "            output = model(data)\n",
    "            test_loss += F.nll_loss(output, target, reduction='sum').item()  # sum up batch loss\n",
    "            pred = output.argmax(dim=1, keepdim=True)  # get the index of the max log-probability\n",
    "            correct += pred.eq(target.view_as(pred)).sum().item()\n",
    "\n",
    "    test_loss /= len(test_loader.dataset)\n",
    "    test_losses.append(test_loss)\n",
    "\n",
    "    print('\\nTest set: Average loss: {:.4f}, Accuracy: {}/{} ({:.2f}%)\\n'.format(\n",
    "        test_loss, correct, len(test_loader.dataset),\n",
    "        100. * correct / len(test_loader.dataset)))\n",
    "    \n",
    "    test_acc.append(100. * correct / len(test_loader.dataset))"
   ],
   "execution_count": 188,
   "outputs": []
  },
  {
   "cell_type": "markdown",
   "metadata": {
    "id": "ytfsA0L6Jrpa"
   },
   "source": [
    "# Train and test our model"
   ]
  },
  {
   "cell_type": "code",
   "metadata": {
    "colab": {
     "base_uri": "https://localhost:8080/"
    },
    "id": "OPvBJKU-J0cC",
    "outputId": "92242b17-c804-415f-f4e2-c8fcd0201feb"
   },
   "source": [
    "model =  Net().to(device)\n",
    "optimizer = optim.SGD(model.parameters(), lr=0.01, momentum=0.9)\n",
    "\n",
    "EPOCHS = 15\n",
    "for epoch in range(EPOCHS):\n",
    "    print(\"EPOCH:\", epoch)\n",
    "    train(model, device, train_loader, optimizer, epoch)\n",
    "    test(model, device, test_loader)"
   ],
   "execution_count": 189,
   "outputs": [
    {
     "output_type": "stream",
     "text": [
      "\r  0%|          | 0/469 [00:00<?, ?it/s]"
     ],
     "name": "stderr"
    },
    {
     "output_type": "stream",
     "text": [
      "EPOCH: 0\n"
     ],
     "name": "stdout"
    },
    {
     "output_type": "stream",
     "text": [
      "Loss=0.04987906292080879 Batch_id=468 Accuracy=97.24: 100%|██████████| 469/469 [00:19<00:00, 24.27it/s]\n",
      "  0%|          | 0/469 [00:00<?, ?it/s]"
     ],
     "name": "stderr"
    },
    {
     "output_type": "stream",
     "text": [
      "\n",
      "Test set: Average loss: 0.0313, Accuracy: 9903/10000 (99.03%)\n",
      "\n",
      "EPOCH: 1\n"
     ],
     "name": "stdout"
    },
    {
     "output_type": "stream",
     "text": [
      "Loss=0.002473510103300214 Batch_id=468 Accuracy=99.19: 100%|██████████| 469/469 [00:19<00:00, 24.31it/s]\n",
      "  0%|          | 0/469 [00:00<?, ?it/s]"
     ],
     "name": "stderr"
    },
    {
     "output_type": "stream",
     "text": [
      "\n",
      "Test set: Average loss: 0.0228, Accuracy: 9931/10000 (99.31%)\n",
      "\n",
      "EPOCH: 2\n"
     ],
     "name": "stdout"
    },
    {
     "output_type": "stream",
     "text": [
      "Loss=0.00571747450158 Batch_id=468 Accuracy=99.40: 100%|██████████| 469/469 [00:19<00:00, 24.06it/s]\n",
      "  0%|          | 0/469 [00:00<?, ?it/s]"
     ],
     "name": "stderr"
    },
    {
     "output_type": "stream",
     "text": [
      "\n",
      "Test set: Average loss: 0.0223, Accuracy: 9932/10000 (99.32%)\n",
      "\n",
      "EPOCH: 3\n"
     ],
     "name": "stdout"
    },
    {
     "output_type": "stream",
     "text": [
      "Loss=0.0366896353662014 Batch_id=468 Accuracy=99.58: 100%|██████████| 469/469 [00:19<00:00, 24.10it/s]\n",
      "  0%|          | 0/469 [00:00<?, ?it/s]"
     ],
     "name": "stderr"
    },
    {
     "output_type": "stream",
     "text": [
      "\n",
      "Test set: Average loss: 0.0203, Accuracy: 9939/10000 (99.39%)\n",
      "\n",
      "EPOCH: 4\n"
     ],
     "name": "stdout"
    },
    {
     "output_type": "stream",
     "text": [
      "Loss=0.008119309321045876 Batch_id=468 Accuracy=99.72: 100%|██████████| 469/469 [00:19<00:00, 23.92it/s]\n",
      "  0%|          | 0/469 [00:00<?, ?it/s]"
     ],
     "name": "stderr"
    },
    {
     "output_type": "stream",
     "text": [
      "\n",
      "Test set: Average loss: 0.0185, Accuracy: 9941/10000 (99.41%)\n",
      "\n",
      "EPOCH: 5\n"
     ],
     "name": "stdout"
    },
    {
     "output_type": "stream",
     "text": [
      "Loss=0.0513281524181366 Batch_id=468 Accuracy=99.76: 100%|██████████| 469/469 [00:19<00:00, 23.91it/s]\n",
      "  0%|          | 0/469 [00:00<?, ?it/s]"
     ],
     "name": "stderr"
    },
    {
     "output_type": "stream",
     "text": [
      "\n",
      "Test set: Average loss: 0.0210, Accuracy: 9937/10000 (99.37%)\n",
      "\n",
      "EPOCH: 6\n"
     ],
     "name": "stdout"
    },
    {
     "output_type": "stream",
     "text": [
      "Loss=0.01754751056432724 Batch_id=468 Accuracy=99.86: 100%|██████████| 469/469 [00:19<00:00, 23.75it/s]\n",
      "  0%|          | 0/469 [00:00<?, ?it/s]"
     ],
     "name": "stderr"
    },
    {
     "output_type": "stream",
     "text": [
      "\n",
      "Test set: Average loss: 0.0198, Accuracy: 9937/10000 (99.37%)\n",
      "\n",
      "EPOCH: 7\n"
     ],
     "name": "stdout"
    },
    {
     "output_type": "stream",
     "text": [
      "Loss=0.00017719523748382926 Batch_id=468 Accuracy=99.88: 100%|██████████| 469/469 [00:19<00:00, 23.66it/s]\n",
      "  0%|          | 0/469 [00:00<?, ?it/s]"
     ],
     "name": "stderr"
    },
    {
     "output_type": "stream",
     "text": [
      "\n",
      "Test set: Average loss: 0.0158, Accuracy: 9952/10000 (99.52%)\n",
      "\n",
      "EPOCH: 8\n"
     ],
     "name": "stdout"
    },
    {
     "output_type": "stream",
     "text": [
      "Loss=0.0028458114247769117 Batch_id=468 Accuracy=99.92: 100%|██████████| 469/469 [00:19<00:00, 23.60it/s]\n",
      "  0%|          | 0/469 [00:00<?, ?it/s]"
     ],
     "name": "stderr"
    },
    {
     "output_type": "stream",
     "text": [
      "\n",
      "Test set: Average loss: 0.0176, Accuracy: 9938/10000 (99.38%)\n",
      "\n",
      "EPOCH: 9\n"
     ],
     "name": "stdout"
    },
    {
     "output_type": "stream",
     "text": [
      "Loss=0.00042146837222389877 Batch_id=468 Accuracy=99.91: 100%|██████████| 469/469 [00:19<00:00, 23.52it/s]\n",
      "  0%|          | 0/469 [00:00<?, ?it/s]"
     ],
     "name": "stderr"
    },
    {
     "output_type": "stream",
     "text": [
      "\n",
      "Test set: Average loss: 0.0165, Accuracy: 9949/10000 (99.49%)\n",
      "\n",
      "EPOCH: 10\n"
     ],
     "name": "stdout"
    },
    {
     "output_type": "stream",
     "text": [
      "Loss=0.002551621524617076 Batch_id=468 Accuracy=99.97: 100%|██████████| 469/469 [00:19<00:00, 23.47it/s]\n",
      "  0%|          | 0/469 [00:00<?, ?it/s]"
     ],
     "name": "stderr"
    },
    {
     "output_type": "stream",
     "text": [
      "\n",
      "Test set: Average loss: 0.0167, Accuracy: 9949/10000 (99.49%)\n",
      "\n",
      "EPOCH: 11\n"
     ],
     "name": "stdout"
    },
    {
     "output_type": "stream",
     "text": [
      "Loss=0.0005313037545420229 Batch_id=468 Accuracy=99.97: 100%|██████████| 469/469 [00:20<00:00, 23.35it/s]\n",
      "  0%|          | 0/469 [00:00<?, ?it/s]"
     ],
     "name": "stderr"
    },
    {
     "output_type": "stream",
     "text": [
      "\n",
      "Test set: Average loss: 0.0164, Accuracy: 9953/10000 (99.53%)\n",
      "\n",
      "EPOCH: 12\n"
     ],
     "name": "stdout"
    },
    {
     "output_type": "stream",
     "text": [
      "Loss=4.76983877888415e-05 Batch_id=468 Accuracy=99.99: 100%|██████████| 469/469 [00:20<00:00, 23.40it/s]\n",
      "  0%|          | 0/469 [00:00<?, ?it/s]"
     ],
     "name": "stderr"
    },
    {
     "output_type": "stream",
     "text": [
      "\n",
      "Test set: Average loss: 0.0158, Accuracy: 9957/10000 (99.57%)\n",
      "\n",
      "EPOCH: 13\n"
     ],
     "name": "stdout"
    },
    {
     "output_type": "stream",
     "text": [
      "Loss=0.0013334032846614718 Batch_id=468 Accuracy=99.99: 100%|██████████| 469/469 [00:20<00:00, 23.04it/s]\n",
      "  0%|          | 0/469 [00:00<?, ?it/s]"
     ],
     "name": "stderr"
    },
    {
     "output_type": "stream",
     "text": [
      "\n",
      "Test set: Average loss: 0.0154, Accuracy: 9955/10000 (99.55%)\n",
      "\n",
      "EPOCH: 14\n"
     ],
     "name": "stdout"
    },
    {
     "output_type": "stream",
     "text": [
      "Loss=6.558551103807986e-05 Batch_id=468 Accuracy=100.00: 100%|██████████| 469/469 [00:20<00:00, 23.32it/s]\n"
     ],
     "name": "stderr"
    },
    {
     "output_type": "stream",
     "text": [
      "\n",
      "Test set: Average loss: 0.0159, Accuracy: 9954/10000 (99.54%)\n",
      "\n"
     ],
     "name": "stdout"
    }
   ]
  }
 ]
}