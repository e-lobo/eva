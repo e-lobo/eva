{
  "nbformat": 4,
  "nbformat_minor": 0,
  "metadata": {
    "colab": {
      "name": "Session_7_Assignment.ipynb",
      "provenance": [],
      "collapsed_sections": [],
      "toc_visible": true
    },
    "kernelspec": {
      "name": "python3",
      "display_name": "Python 3"
    },
    "accelerator": "GPU",
    "widgets": {
      "application/vnd.jupyter.widget-state+json": {
        "b93ee39983db4ad2b5a6688711075d9e": {
          "model_module": "@jupyter-widgets/controls",
          "model_name": "HBoxModel",
          "state": {
            "_view_name": "HBoxView",
            "_dom_classes": [],
            "_model_name": "HBoxModel",
            "_view_module": "@jupyter-widgets/controls",
            "_model_module_version": "1.5.0",
            "_view_count": null,
            "_view_module_version": "1.5.0",
            "box_style": "",
            "layout": "IPY_MODEL_15ace27e9d3d407cb302b316d52d1697",
            "_model_module": "@jupyter-widgets/controls",
            "children": [
              "IPY_MODEL_4f101e194b0644ba99400f8ca90b1d8c",
              "IPY_MODEL_331ddc4ef0374a84836de269b74fc91b"
            ]
          }
        },
        "15ace27e9d3d407cb302b316d52d1697": {
          "model_module": "@jupyter-widgets/base",
          "model_name": "LayoutModel",
          "state": {
            "_view_name": "LayoutView",
            "grid_template_rows": null,
            "right": null,
            "justify_content": null,
            "_view_module": "@jupyter-widgets/base",
            "overflow": null,
            "_model_module_version": "1.2.0",
            "_view_count": null,
            "flex_flow": null,
            "width": null,
            "min_width": null,
            "border": null,
            "align_items": null,
            "bottom": null,
            "_model_module": "@jupyter-widgets/base",
            "top": null,
            "grid_column": null,
            "overflow_y": null,
            "overflow_x": null,
            "grid_auto_flow": null,
            "grid_area": null,
            "grid_template_columns": null,
            "flex": null,
            "_model_name": "LayoutModel",
            "justify_items": null,
            "grid_row": null,
            "max_height": null,
            "align_content": null,
            "visibility": null,
            "align_self": null,
            "height": null,
            "min_height": null,
            "padding": null,
            "grid_auto_rows": null,
            "grid_gap": null,
            "max_width": null,
            "order": null,
            "_view_module_version": "1.2.0",
            "grid_template_areas": null,
            "object_position": null,
            "object_fit": null,
            "grid_auto_columns": null,
            "margin": null,
            "display": null,
            "left": null
          }
        },
        "4f101e194b0644ba99400f8ca90b1d8c": {
          "model_module": "@jupyter-widgets/controls",
          "model_name": "FloatProgressModel",
          "state": {
            "_view_name": "ProgressView",
            "style": "IPY_MODEL_a76e3727a20e4a62a4cc07b549c7b675",
            "_dom_classes": [],
            "description": "",
            "_model_name": "FloatProgressModel",
            "bar_style": "info",
            "max": 1,
            "_view_module": "@jupyter-widgets/controls",
            "_model_module_version": "1.5.0",
            "value": 1,
            "_view_count": null,
            "_view_module_version": "1.5.0",
            "orientation": "horizontal",
            "min": 0,
            "description_tooltip": null,
            "_model_module": "@jupyter-widgets/controls",
            "layout": "IPY_MODEL_0be35967bb1648589756b455cafa246c"
          }
        },
        "331ddc4ef0374a84836de269b74fc91b": {
          "model_module": "@jupyter-widgets/controls",
          "model_name": "HTMLModel",
          "state": {
            "_view_name": "HTMLView",
            "style": "IPY_MODEL_693969cc5467450b9eaf15343e2d3c13",
            "_dom_classes": [],
            "description": "",
            "_model_name": "HTMLModel",
            "placeholder": "​",
            "_view_module": "@jupyter-widgets/controls",
            "_model_module_version": "1.5.0",
            "value": " 170500096/? [00:20&lt;00:00, 97780255.05it/s]",
            "_view_count": null,
            "_view_module_version": "1.5.0",
            "description_tooltip": null,
            "_model_module": "@jupyter-widgets/controls",
            "layout": "IPY_MODEL_f920a8c2f05745bb99ea6806033d014c"
          }
        },
        "a76e3727a20e4a62a4cc07b549c7b675": {
          "model_module": "@jupyter-widgets/controls",
          "model_name": "ProgressStyleModel",
          "state": {
            "_view_name": "StyleView",
            "_model_name": "ProgressStyleModel",
            "description_width": "initial",
            "_view_module": "@jupyter-widgets/base",
            "_model_module_version": "1.5.0",
            "_view_count": null,
            "_view_module_version": "1.2.0",
            "bar_color": null,
            "_model_module": "@jupyter-widgets/controls"
          }
        },
        "0be35967bb1648589756b455cafa246c": {
          "model_module": "@jupyter-widgets/base",
          "model_name": "LayoutModel",
          "state": {
            "_view_name": "LayoutView",
            "grid_template_rows": null,
            "right": null,
            "justify_content": null,
            "_view_module": "@jupyter-widgets/base",
            "overflow": null,
            "_model_module_version": "1.2.0",
            "_view_count": null,
            "flex_flow": null,
            "width": null,
            "min_width": null,
            "border": null,
            "align_items": null,
            "bottom": null,
            "_model_module": "@jupyter-widgets/base",
            "top": null,
            "grid_column": null,
            "overflow_y": null,
            "overflow_x": null,
            "grid_auto_flow": null,
            "grid_area": null,
            "grid_template_columns": null,
            "flex": null,
            "_model_name": "LayoutModel",
            "justify_items": null,
            "grid_row": null,
            "max_height": null,
            "align_content": null,
            "visibility": null,
            "align_self": null,
            "height": null,
            "min_height": null,
            "padding": null,
            "grid_auto_rows": null,
            "grid_gap": null,
            "max_width": null,
            "order": null,
            "_view_module_version": "1.2.0",
            "grid_template_areas": null,
            "object_position": null,
            "object_fit": null,
            "grid_auto_columns": null,
            "margin": null,
            "display": null,
            "left": null
          }
        },
        "693969cc5467450b9eaf15343e2d3c13": {
          "model_module": "@jupyter-widgets/controls",
          "model_name": "DescriptionStyleModel",
          "state": {
            "_view_name": "StyleView",
            "_model_name": "DescriptionStyleModel",
            "description_width": "",
            "_view_module": "@jupyter-widgets/base",
            "_model_module_version": "1.5.0",
            "_view_count": null,
            "_view_module_version": "1.2.0",
            "_model_module": "@jupyter-widgets/controls"
          }
        },
        "f920a8c2f05745bb99ea6806033d014c": {
          "model_module": "@jupyter-widgets/base",
          "model_name": "LayoutModel",
          "state": {
            "_view_name": "LayoutView",
            "grid_template_rows": null,
            "right": null,
            "justify_content": null,
            "_view_module": "@jupyter-widgets/base",
            "overflow": null,
            "_model_module_version": "1.2.0",
            "_view_count": null,
            "flex_flow": null,
            "width": null,
            "min_width": null,
            "border": null,
            "align_items": null,
            "bottom": null,
            "_model_module": "@jupyter-widgets/base",
            "top": null,
            "grid_column": null,
            "overflow_y": null,
            "overflow_x": null,
            "grid_auto_flow": null,
            "grid_area": null,
            "grid_template_columns": null,
            "flex": null,
            "_model_name": "LayoutModel",
            "justify_items": null,
            "grid_row": null,
            "max_height": null,
            "align_content": null,
            "visibility": null,
            "align_self": null,
            "height": null,
            "min_height": null,
            "padding": null,
            "grid_auto_rows": null,
            "grid_gap": null,
            "max_width": null,
            "order": null,
            "_view_module_version": "1.2.0",
            "grid_template_areas": null,
            "object_position": null,
            "object_fit": null,
            "grid_auto_columns": null,
            "margin": null,
            "display": null,
            "left": null
          }
        }
      }
    }
  },
  "cells": [
    {
      "cell_type": "markdown",
      "metadata": {
        "id": "mVreXmHvyU7R"
      },
      "source": [
        "#Eva Session 7 - Advanced Convolutions"
      ]
    },
    {
      "cell_type": "markdown",
      "metadata": {
        "id": "_TN_-Llhypz8"
      },
      "source": [
        "## Clone github repository"
      ]
    },
    {
      "cell_type": "code",
      "metadata": {
        "colab": {
          "base_uri": "https://localhost:8080/"
        },
        "id": "WM1WfQZ4x-Ql",
        "outputId": "f952374a-00a6-4389-a79a-653363b7ae5a"
      },
      "source": [
        "!git clone \"https://github.com/e-lobo/eva.git\""
      ],
      "execution_count": 1,
      "outputs": [
        {
          "output_type": "stream",
          "text": [
            "Cloning into 'eva'...\n",
            "remote: Enumerating objects: 175, done.\u001b[K\n",
            "remote: Counting objects: 100% (175/175), done.\u001b[K\n",
            "remote: Compressing objects: 100% (138/138), done.\u001b[K\n",
            "remote: Total 175 (delta 55), reused 154 (delta 34), pack-reused 0\u001b[K\n",
            "Receiving objects: 100% (175/175), 4.56 MiB | 34.09 MiB/s, done.\n",
            "Resolving deltas: 100% (55/55), done.\n"
          ],
          "name": "stdout"
        }
      ]
    },
    {
      "cell_type": "markdown",
      "metadata": {
        "id": "6_dnUkbezAd2"
      },
      "source": [
        "## Import all necessary classes and utils"
      ]
    },
    {
      "cell_type": "code",
      "metadata": {
        "id": "bC1zC_4nzYgF"
      },
      "source": [
        "from eva.session_7.utils import DATA_MEAN, DATA_STD_DEV, display_image, print_sum ,EPOCH, LEARNING_RATE, MOMENTUM \n",
        "from eva.session_7.data_loader import Loader\n",
        "from eva.session_7.test import TestCifar10\n",
        "from eva.session_7.train import TrainCifar10"
      ],
      "execution_count": 3,
      "outputs": []
    },
    {
      "cell_type": "markdown",
      "metadata": {
        "id": "dnqLG0QOzvVN"
      },
      "source": [
        "## Load the Cifar 10 Data Set"
      ]
    },
    {
      "cell_type": "code",
      "metadata": {
        "colab": {
          "base_uri": "https://localhost:8080/",
          "height": 100,
          "referenced_widgets": [
            "b93ee39983db4ad2b5a6688711075d9e",
            "15ace27e9d3d407cb302b316d52d1697",
            "4f101e194b0644ba99400f8ca90b1d8c",
            "331ddc4ef0374a84836de269b74fc91b",
            "a76e3727a20e4a62a4cc07b549c7b675",
            "0be35967bb1648589756b455cafa246c",
            "693969cc5467450b9eaf15343e2d3c13",
            "f920a8c2f05745bb99ea6806033d014c"
          ]
        },
        "id": "YEHLkwRDz--7",
        "outputId": "a8cba419-e081-4dc5-9c1a-5e106789d6cf"
      },
      "source": [
        "loader = Loader(DATA_MEAN,DATA_STD_DEV)"
      ],
      "execution_count": 4,
      "outputs": [
        {
          "output_type": "stream",
          "text": [
            "Downloading https://www.cs.toronto.edu/~kriz/cifar-10-python.tar.gz to ./data/cifar-10-python.tar.gz\n"
          ],
          "name": "stdout"
        },
        {
          "output_type": "display_data",
          "data": {
            "application/vnd.jupyter.widget-view+json": {
              "model_id": "b93ee39983db4ad2b5a6688711075d9e",
              "version_minor": 0,
              "version_major": 2
            },
            "text/plain": [
              "HBox(children=(FloatProgress(value=1.0, bar_style='info', max=1.0), HTML(value='')))"
            ]
          },
          "metadata": {
            "tags": []
          }
        },
        {
          "output_type": "stream",
          "text": [
            "Extracting ./data/cifar-10-python.tar.gz to ./data\n",
            "Files already downloaded and verified\n"
          ],
          "name": "stdout"
        }
      ]
    },
    {
      "cell_type": "markdown",
      "metadata": {
        "id": "VCZTKqEt1EBG"
      },
      "source": [
        "## Displaying some images from the train set"
      ]
    },
    {
      "cell_type": "code",
      "metadata": {
        "colab": {
          "base_uri": "https://localhost:8080/",
          "height": 323
        },
        "id": "VVZpMA4I1NC4",
        "outputId": "0915496a-66e0-48e1-8827-edb76a730445"
      },
      "source": [
        "display_image(loader.train_loader)"
      ],
      "execution_count": 5,
      "outputs": [
        {
          "output_type": "stream",
          "text": [
            "Clipping input data to the valid range for imshow with RGB data ([0..1] for floats or [0..255] for integers).\n"
          ],
          "name": "stderr"
        },
        {
          "output_type": "stream",
          "text": [
            "  cat   cat plane  ship   cat  deer  bird   cat horse plane plane   cat horse truck  frog   cat   cat   dog plane horse  frog truck  deer plane   car   car  deer  bird plane  bird   cat  bird   car plane truck   cat   cat   dog   car  bird   car plane  ship   car  ship truck   cat  deer horse  frog   car  bird horse  ship horse   car truck  bird  deer  bird  ship  deer truck plane\n"
          ],
          "name": "stdout"
        },
        {
          "output_type": "display_data",
          "data": {
            "image/png": "[encoded data removed]",
            "text/plain": [
              "<Figure size 432x288 with 1 Axes>"
            ]
          },
          "metadata": {
            "tags": [],
            "needs_background": "light"
          }
        }
      ]
    },
    {
      "cell_type": "markdown",
      "metadata": {
        "id": "tW5WQhyK1lNj"
      },
      "source": [
        "## Torch Summary of the Model"
      ]
    },
    {
      "cell_type": "code",
      "metadata": {
        "colab": {
          "base_uri": "https://localhost:8080/"
        },
        "id": "lRFyo7WS1sUv",
        "outputId": "2849d74c-2dc7-4ec8-80f5-f8f7c682429b"
      },
      "source": [
        "print_sum(loader.model)"
      ],
      "execution_count": 6,
      "outputs": [
        {
          "output_type": "stream",
          "text": [
            "----------------------------------------------------------------\n",
            "        Layer (type)               Output Shape         Param #\n",
            "================================================================\n",
            "            Conv2d-1           [-1, 64, 32, 32]           1,728\n",
            "              ReLU-2           [-1, 64, 32, 32]               0\n",
            "       BatchNorm2d-3           [-1, 64, 32, 32]             128\n",
            "           Dropout-4           [-1, 64, 32, 32]               0\n",
            "         MaxPool2d-5           [-1, 64, 16, 16]               0\n",
            "            Conv2d-6          [-1, 128, 18, 18]           8,192\n",
            "              ReLU-7          [-1, 128, 18, 18]               0\n",
            "       BatchNorm2d-8          [-1, 128, 18, 18]             256\n",
            "           Dropout-9          [-1, 128, 18, 18]               0\n",
            "           Conv2d-10          [-1, 256, 18, 18]         294,912\n",
            "             ReLU-11          [-1, 256, 18, 18]               0\n",
            "      BatchNorm2d-12          [-1, 256, 18, 18]             512\n",
            "          Dropout-13          [-1, 256, 18, 18]               0\n",
            "        MaxPool2d-14            [-1, 256, 9, 9]               0\n",
            "           Conv2d-15          [-1, 256, 11, 11]          65,536\n",
            "             ReLU-16          [-1, 256, 11, 11]               0\n",
            "      BatchNorm2d-17          [-1, 256, 11, 11]             512\n",
            "           Conv2d-18          [-1, 256, 11, 11]           2,304\n",
            "           Conv2d-19          [-1, 256, 11, 11]          65,536\n",
            "             ReLU-20          [-1, 256, 11, 11]               0\n",
            "      BatchNorm2d-21          [-1, 256, 11, 11]             512\n",
            "        MaxPool2d-22            [-1, 256, 5, 5]               0\n",
            "           Conv2d-23            [-1, 256, 7, 7]          65,536\n",
            "             ReLU-24            [-1, 256, 7, 7]               0\n",
            "      BatchNorm2d-25            [-1, 256, 7, 7]             512\n",
            "          Dropout-26            [-1, 256, 7, 7]               0\n",
            "           Conv2d-27            [-1, 256, 7, 7]           2,304\n",
            "           Conv2d-28            [-1, 256, 7, 7]          65,536\n",
            "             ReLU-29            [-1, 256, 7, 7]               0\n",
            "      BatchNorm2d-30            [-1, 256, 7, 7]             512\n",
            "           Conv2d-31            [-1, 512, 7, 7]         131,072\n",
            "             ReLU-32            [-1, 512, 7, 7]               0\n",
            "      BatchNorm2d-33            [-1, 512, 7, 7]           1,024\n",
            "          Dropout-34            [-1, 512, 7, 7]               0\n",
            "        AvgPool2d-35            [-1, 512, 1, 1]               0\n",
            "           Conv2d-36             [-1, 10, 1, 1]           5,120\n",
            "================================================================\n",
            "Total params: 711,744\n",
            "Trainable params: 711,744\n",
            "Non-trainable params: 0\n",
            "----------------------------------------------------------------\n",
            "Input size (MB): 0.01\n",
            "Forward/backward pass size (MB): 9.32\n",
            "Params size (MB): 2.72\n",
            "Estimated Total Size (MB): 12.05\n",
            "----------------------------------------------------------------\n"
          ],
          "name": "stdout"
        }
      ]
    },
    {
      "cell_type": "markdown",
      "metadata": {
        "id": "6isTS_bl14SP"
      },
      "source": [
        "## Train and Test the model"
      ]
    },
    {
      "cell_type": "code",
      "metadata": {
        "colab": {
          "base_uri": "https://localhost:8080/"
        },
        "id": "1qWeOnHa2XBq",
        "outputId": "567f1466-9df1-4044-8049-716c48eb231f"
      },
      "source": [
        "train_cifar = TrainCifar10(loader.device, loader.model, loader.train_loader)\n",
        "test_cifar = TestCifar10(loader.device,loader.model,loader.test_loader)\n",
        "train_cifar.train(EPOCH,test_cifar,LEARNING_RATE,MOMENTUM)"
      ],
      "execution_count": 7,
      "outputs": [
        {
          "output_type": "stream",
          "text": [
            "\r  0%|          | 0/782 [00:00<?, ?it/s]"
          ],
          "name": "stderr"
        },
        {
          "output_type": "stream",
          "text": [
            "EPOCH: 1\n"
          ],
          "name": "stdout"
        },
        {
          "output_type": "stream",
          "text": [
            "Loss=1.3250634670257568 Batch_id=781 Accuracy=55.18: 100%|██████████| 782/782 [00:23<00:00, 33.92it/s]\n",
            "100%|██████████| 157/157 [00:02<00:00, 58.01it/s]\n",
            "  0%|          | 0/782 [00:00<?, ?it/s]"
          ],
          "name": "stderr"
        },
        {
          "output_type": "stream",
          "text": [
            "\n",
            "Test set: Average loss: 1.0323, Accuracy: 6427/10000 (64.27%)\n",
            "\n",
            "EPOCH: 2\n"
          ],
          "name": "stdout"
        },
        {
          "output_type": "stream",
          "text": [
            "Loss=0.560922384262085 Batch_id=781 Accuracy=70.85: 100%|██████████| 782/782 [00:22<00:00, 34.04it/s]\n",
            "100%|██████████| 157/157 [00:02<00:00, 58.38it/s]\n",
            "  0%|          | 0/782 [00:00<?, ?it/s]"
          ],
          "name": "stderr"
        },
        {
          "output_type": "stream",
          "text": [
            "\n",
            "Test set: Average loss: 0.7805, Accuracy: 7271/10000 (72.71%)\n",
            "\n",
            "EPOCH: 3\n"
          ],
          "name": "stdout"
        },
        {
          "output_type": "stream",
          "text": [
            "Loss=0.6739456057548523 Batch_id=781 Accuracy=76.90: 100%|██████████| 782/782 [00:23<00:00, 33.34it/s]\n",
            "100%|██████████| 157/157 [00:02<00:00, 57.45it/s]\n",
            "  0%|          | 0/782 [00:00<?, ?it/s]"
          ],
          "name": "stderr"
        },
        {
          "output_type": "stream",
          "text": [
            "\n",
            "Test set: Average loss: 0.7259, Accuracy: 7492/10000 (74.92%)\n",
            "\n",
            "EPOCH: 4\n"
          ],
          "name": "stdout"
        },
        {
          "output_type": "stream",
          "text": [
            "Loss=0.675731897354126 Batch_id=781 Accuracy=81.07: 100%|██████████| 782/782 [00:23<00:00, 32.76it/s]\n",
            "100%|██████████| 157/157 [00:02<00:00, 58.90it/s]\n",
            "  0%|          | 0/782 [00:00<?, ?it/s]"
          ],
          "name": "stderr"
        },
        {
          "output_type": "stream",
          "text": [
            "\n",
            "Test set: Average loss: 0.6821, Accuracy: 7681/10000 (76.81%)\n",
            "\n",
            "EPOCH: 5\n"
          ],
          "name": "stdout"
        },
        {
          "output_type": "stream",
          "text": [
            "Loss=0.8581491708755493 Batch_id=781 Accuracy=84.08: 100%|██████████| 782/782 [00:23<00:00, 32.73it/s]\n",
            "100%|██████████| 157/157 [00:02<00:00, 58.46it/s]\n",
            "  0%|          | 0/782 [00:00<?, ?it/s]"
          ],
          "name": "stderr"
        },
        {
          "output_type": "stream",
          "text": [
            "\n",
            "Test set: Average loss: 0.6259, Accuracy: 7865/10000 (78.65%)\n",
            "\n",
            "EPOCH: 6\n"
          ],
          "name": "stdout"
        },
        {
          "output_type": "stream",
          "text": [
            "Loss=0.43740808963775635 Batch_id=781 Accuracy=86.11: 100%|██████████| 782/782 [00:23<00:00, 33.02it/s]\n",
            "100%|██████████| 157/157 [00:02<00:00, 58.43it/s]\n",
            "  0%|          | 0/782 [00:00<?, ?it/s]"
          ],
          "name": "stderr"
        },
        {
          "output_type": "stream",
          "text": [
            "\n",
            "Test set: Average loss: 0.6530, Accuracy: 7856/10000 (78.56%)\n",
            "\n",
            "EPOCH: 7\n"
          ],
          "name": "stdout"
        },
        {
          "output_type": "stream",
          "text": [
            "Loss=0.4608805179595947 Batch_id=781 Accuracy=88.64: 100%|██████████| 782/782 [00:23<00:00, 33.02it/s]\n",
            "100%|██████████| 157/157 [00:02<00:00, 57.91it/s]\n",
            "  0%|          | 0/782 [00:00<?, ?it/s]"
          ],
          "name": "stderr"
        },
        {
          "output_type": "stream",
          "text": [
            "\n",
            "Test set: Average loss: 0.7015, Accuracy: 7833/10000 (78.33%)\n",
            "\n",
            "EPOCH: 8\n"
          ],
          "name": "stdout"
        },
        {
          "output_type": "stream",
          "text": [
            "Loss=0.8239753246307373 Batch_id=781 Accuracy=90.14: 100%|██████████| 782/782 [00:23<00:00, 32.96it/s]\n",
            "100%|██████████| 157/157 [00:02<00:00, 58.41it/s]\n",
            "  0%|          | 0/782 [00:00<?, ?it/s]"
          ],
          "name": "stderr"
        },
        {
          "output_type": "stream",
          "text": [
            "\n",
            "Test set: Average loss: 0.7401, Accuracy: 7837/10000 (78.37%)\n",
            "\n",
            "EPOCH: 9\n"
          ],
          "name": "stdout"
        },
        {
          "output_type": "stream",
          "text": [
            "Loss=0.3602650463581085 Batch_id=781 Accuracy=91.33: 100%|██████████| 782/782 [00:23<00:00, 33.03it/s]\n",
            "100%|██████████| 157/157 [00:02<00:00, 57.52it/s]\n",
            "  0%|          | 0/782 [00:00<?, ?it/s]"
          ],
          "name": "stderr"
        },
        {
          "output_type": "stream",
          "text": [
            "\n",
            "Test set: Average loss: 0.6722, Accuracy: 8005/10000 (80.05%)\n",
            "\n",
            "EPOCH: 10\n"
          ],
          "name": "stdout"
        },
        {
          "output_type": "stream",
          "text": [
            "Loss=0.05099306255578995 Batch_id=781 Accuracy=93.12: 100%|██████████| 782/782 [00:23<00:00, 32.82it/s]\n",
            "100%|██████████| 157/157 [00:02<00:00, 57.88it/s]\n",
            "  0%|          | 0/782 [00:00<?, ?it/s]"
          ],
          "name": "stderr"
        },
        {
          "output_type": "stream",
          "text": [
            "\n",
            "Test set: Average loss: 0.7608, Accuracy: 7883/10000 (78.83%)\n",
            "\n",
            "EPOCH: 11\n"
          ],
          "name": "stdout"
        },
        {
          "output_type": "stream",
          "text": [
            "Loss=0.019514024257659912 Batch_id=781 Accuracy=94.15: 100%|██████████| 782/782 [00:23<00:00, 33.24it/s]\n",
            "100%|██████████| 157/157 [00:02<00:00, 58.90it/s]\n",
            "  0%|          | 0/782 [00:00<?, ?it/s]"
          ],
          "name": "stderr"
        },
        {
          "output_type": "stream",
          "text": [
            "\n",
            "Test set: Average loss: 0.7364, Accuracy: 7991/10000 (79.91%)\n",
            "\n",
            "EPOCH: 12\n"
          ],
          "name": "stdout"
        },
        {
          "output_type": "stream",
          "text": [
            "Loss=0.29548150300979614 Batch_id=781 Accuracy=94.92: 100%|██████████| 782/782 [00:23<00:00, 33.00it/s]\n",
            "100%|██████████| 157/157 [00:02<00:00, 57.77it/s]\n",
            "  0%|          | 0/782 [00:00<?, ?it/s]"
          ],
          "name": "stderr"
        },
        {
          "output_type": "stream",
          "text": [
            "\n",
            "Test set: Average loss: 0.7701, Accuracy: 8011/10000 (80.11%)\n",
            "\n",
            "EPOCH: 13\n"
          ],
          "name": "stdout"
        },
        {
          "output_type": "stream",
          "text": [
            "Loss=0.11561695486307144 Batch_id=781 Accuracy=95.62: 100%|██████████| 782/782 [00:23<00:00, 32.83it/s]\n",
            "100%|██████████| 157/157 [00:02<00:00, 58.28it/s]\n",
            "  0%|          | 0/782 [00:00<?, ?it/s]"
          ],
          "name": "stderr"
        },
        {
          "output_type": "stream",
          "text": [
            "\n",
            "Test set: Average loss: 0.7865, Accuracy: 7954/10000 (79.54%)\n",
            "\n",
            "EPOCH: 14\n"
          ],
          "name": "stdout"
        },
        {
          "output_type": "stream",
          "text": [
            "Loss=0.49289196729660034 Batch_id=781 Accuracy=96.42: 100%|██████████| 782/782 [00:23<00:00, 33.01it/s]\n",
            "100%|██████████| 157/157 [00:02<00:00, 58.56it/s]\n",
            "  0%|          | 0/782 [00:00<?, ?it/s]"
          ],
          "name": "stderr"
        },
        {
          "output_type": "stream",
          "text": [
            "\n",
            "Test set: Average loss: 0.8850, Accuracy: 7971/10000 (79.71%)\n",
            "\n",
            "EPOCH: 15\n"
          ],
          "name": "stdout"
        },
        {
          "output_type": "stream",
          "text": [
            "Loss=0.4978630542755127 Batch_id=781 Accuracy=96.32: 100%|██████████| 782/782 [00:23<00:00, 33.06it/s]\n",
            "100%|██████████| 157/157 [00:02<00:00, 59.50it/s]\n",
            "  0%|          | 0/782 [00:00<?, ?it/s]"
          ],
          "name": "stderr"
        },
        {
          "output_type": "stream",
          "text": [
            "\n",
            "Test set: Average loss: 0.8153, Accuracy: 8090/10000 (80.90%)\n",
            "\n",
            "EPOCH: 16\n"
          ],
          "name": "stdout"
        },
        {
          "output_type": "stream",
          "text": [
            "Loss=0.013225415721535683 Batch_id=781 Accuracy=97.07: 100%|██████████| 782/782 [00:23<00:00, 33.13it/s]\n",
            "100%|██████████| 157/157 [00:02<00:00, 58.37it/s]\n",
            "  0%|          | 0/782 [00:00<?, ?it/s]"
          ],
          "name": "stderr"
        },
        {
          "output_type": "stream",
          "text": [
            "\n",
            "Test set: Average loss: 0.8801, Accuracy: 8027/10000 (80.27%)\n",
            "\n",
            "EPOCH: 17\n"
          ],
          "name": "stdout"
        },
        {
          "output_type": "stream",
          "text": [
            "Loss=0.006044980604201555 Batch_id=781 Accuracy=97.44: 100%|██████████| 782/782 [00:23<00:00, 33.09it/s]\n",
            "100%|██████████| 157/157 [00:02<00:00, 58.76it/s]\n",
            "  0%|          | 0/782 [00:00<?, ?it/s]"
          ],
          "name": "stderr"
        },
        {
          "output_type": "stream",
          "text": [
            "\n",
            "Test set: Average loss: 0.8750, Accuracy: 8098/10000 (80.98%)\n",
            "\n",
            "EPOCH: 18\n"
          ],
          "name": "stdout"
        },
        {
          "output_type": "stream",
          "text": [
            "Loss=0.012104452587664127 Batch_id=781 Accuracy=98.03: 100%|██████████| 782/782 [00:23<00:00, 33.09it/s]\n",
            "100%|██████████| 157/157 [00:02<00:00, 58.97it/s]\n",
            "  0%|          | 0/782 [00:00<?, ?it/s]"
          ],
          "name": "stderr"
        },
        {
          "output_type": "stream",
          "text": [
            "\n",
            "Test set: Average loss: 0.9699, Accuracy: 8044/10000 (80.44%)\n",
            "\n",
            "EPOCH: 19\n"
          ],
          "name": "stdout"
        },
        {
          "output_type": "stream",
          "text": [
            "Loss=0.03177659213542938 Batch_id=781 Accuracy=98.25: 100%|██████████| 782/782 [00:23<00:00, 33.14it/s]\n",
            "100%|██████████| 157/157 [00:02<00:00, 57.79it/s]\n",
            "  0%|          | 0/782 [00:00<?, ?it/s]"
          ],
          "name": "stderr"
        },
        {
          "output_type": "stream",
          "text": [
            "\n",
            "Test set: Average loss: 0.9547, Accuracy: 8053/10000 (80.53%)\n",
            "\n",
            "EPOCH: 20\n"
          ],
          "name": "stdout"
        },
        {
          "output_type": "stream",
          "text": [
            "Loss=0.07377706468105316 Batch_id=781 Accuracy=98.15: 100%|██████████| 782/782 [00:23<00:00, 32.97it/s]\n",
            "100%|██████████| 157/157 [00:02<00:00, 57.76it/s]\n",
            "  0%|          | 0/782 [00:00<?, ?it/s]"
          ],
          "name": "stderr"
        },
        {
          "output_type": "stream",
          "text": [
            "\n",
            "Test set: Average loss: 0.9401, Accuracy: 8096/10000 (80.96%)\n",
            "\n",
            "EPOCH: 21\n"
          ],
          "name": "stdout"
        },
        {
          "output_type": "stream",
          "text": [
            "Loss=0.004164235200732946 Batch_id=781 Accuracy=98.08: 100%|██████████| 782/782 [00:23<00:00, 32.92it/s]\n",
            "100%|██████████| 157/157 [00:02<00:00, 57.62it/s]\n",
            "  0%|          | 0/782 [00:00<?, ?it/s]"
          ],
          "name": "stderr"
        },
        {
          "output_type": "stream",
          "text": [
            "\n",
            "Test set: Average loss: 0.9686, Accuracy: 8079/10000 (80.79%)\n",
            "\n",
            "EPOCH: 22\n"
          ],
          "name": "stdout"
        },
        {
          "output_type": "stream",
          "text": [
            "Loss=0.008006899617612362 Batch_id=781 Accuracy=98.60: 100%|██████████| 782/782 [00:23<00:00, 32.94it/s]\n",
            "100%|██████████| 157/157 [00:02<00:00, 56.85it/s]\n",
            "  0%|          | 0/782 [00:00<?, ?it/s]"
          ],
          "name": "stderr"
        },
        {
          "output_type": "stream",
          "text": [
            "\n",
            "Test set: Average loss: 0.9994, Accuracy: 8094/10000 (80.94%)\n",
            "\n",
            "EPOCH: 23\n"
          ],
          "name": "stdout"
        },
        {
          "output_type": "stream",
          "text": [
            "Loss=0.0011482853442430496 Batch_id=781 Accuracy=98.84: 100%|██████████| 782/782 [00:23<00:00, 32.78it/s]\n",
            "100%|██████████| 157/157 [00:02<00:00, 57.71it/s]\n",
            "  0%|          | 0/782 [00:00<?, ?it/s]"
          ],
          "name": "stderr"
        },
        {
          "output_type": "stream",
          "text": [
            "\n",
            "Test set: Average loss: 1.0013, Accuracy: 8091/10000 (80.91%)\n",
            "\n",
            "EPOCH: 24\n"
          ],
          "name": "stdout"
        },
        {
          "output_type": "stream",
          "text": [
            "Loss=0.29734349250793457 Batch_id=781 Accuracy=99.00: 100%|██████████| 782/782 [00:23<00:00, 32.97it/s]\n",
            "100%|██████████| 157/157 [00:02<00:00, 57.11it/s]\n",
            "  0%|          | 0/782 [00:00<?, ?it/s]"
          ],
          "name": "stderr"
        },
        {
          "output_type": "stream",
          "text": [
            "\n",
            "Test set: Average loss: 1.0259, Accuracy: 8092/10000 (80.92%)\n",
            "\n",
            "EPOCH: 25\n"
          ],
          "name": "stdout"
        },
        {
          "output_type": "stream",
          "text": [
            "Loss=0.028918448835611343 Batch_id=781 Accuracy=98.93: 100%|██████████| 782/782 [00:23<00:00, 32.89it/s]\n",
            "100%|██████████| 157/157 [00:02<00:00, 56.50it/s]\n",
            "  0%|          | 0/782 [00:00<?, ?it/s]"
          ],
          "name": "stderr"
        },
        {
          "output_type": "stream",
          "text": [
            "\n",
            "Test set: Average loss: 1.0566, Accuracy: 8101/10000 (81.01%)\n",
            "\n",
            "EPOCH: 26\n"
          ],
          "name": "stdout"
        },
        {
          "output_type": "stream",
          "text": [
            "Loss=0.021114369854331017 Batch_id=781 Accuracy=98.62: 100%|██████████| 782/782 [00:23<00:00, 33.03it/s]\n",
            "100%|██████████| 157/157 [00:02<00:00, 56.59it/s]\n",
            "  0%|          | 0/782 [00:00<?, ?it/s]"
          ],
          "name": "stderr"
        },
        {
          "output_type": "stream",
          "text": [
            "\n",
            "Test set: Average loss: 1.0692, Accuracy: 8109/10000 (81.09%)\n",
            "\n",
            "EPOCH: 27\n"
          ],
          "name": "stdout"
        },
        {
          "output_type": "stream",
          "text": [
            "Loss=0.005149999167770147 Batch_id=781 Accuracy=99.06: 100%|██████████| 782/782 [00:24<00:00, 32.56it/s]\n",
            "100%|██████████| 157/157 [00:02<00:00, 57.15it/s]\n",
            "  0%|          | 0/782 [00:00<?, ?it/s]"
          ],
          "name": "stderr"
        },
        {
          "output_type": "stream",
          "text": [
            "\n",
            "Test set: Average loss: 0.9820, Accuracy: 8200/10000 (82.00%)\n",
            "\n",
            "EPOCH: 28\n"
          ],
          "name": "stdout"
        },
        {
          "output_type": "stream",
          "text": [
            "Loss=0.030581582337617874 Batch_id=781 Accuracy=99.44: 100%|██████████| 782/782 [00:23<00:00, 32.89it/s]\n",
            "100%|██████████| 157/157 [00:02<00:00, 55.88it/s]\n",
            "  0%|          | 0/782 [00:00<?, ?it/s]"
          ],
          "name": "stderr"
        },
        {
          "output_type": "stream",
          "text": [
            "\n",
            "Test set: Average loss: 1.0162, Accuracy: 8197/10000 (81.97%)\n",
            "\n",
            "EPOCH: 29\n"
          ],
          "name": "stdout"
        },
        {
          "output_type": "stream",
          "text": [
            "Loss=0.0026514329947531223 Batch_id=781 Accuracy=99.36: 100%|██████████| 782/782 [00:23<00:00, 32.84it/s]\n",
            "100%|██████████| 157/157 [00:02<00:00, 57.40it/s]\n",
            "  0%|          | 0/782 [00:00<?, ?it/s]"
          ],
          "name": "stderr"
        },
        {
          "output_type": "stream",
          "text": [
            "\n",
            "Test set: Average loss: 1.0660, Accuracy: 8206/10000 (82.06%)\n",
            "\n",
            "EPOCH: 30\n"
          ],
          "name": "stdout"
        },
        {
          "output_type": "stream",
          "text": [
            "Loss=0.0027487515471875668 Batch_id=781 Accuracy=99.53: 100%|██████████| 782/782 [00:23<00:00, 32.64it/s]\n",
            "100%|██████████| 157/157 [00:02<00:00, 57.55it/s]\n",
            "  0%|          | 0/782 [00:00<?, ?it/s]"
          ],
          "name": "stderr"
        },
        {
          "output_type": "stream",
          "text": [
            "\n",
            "Test set: Average loss: 1.1066, Accuracy: 8163/10000 (81.63%)\n",
            "\n",
            "EPOCH: 31\n"
          ],
          "name": "stdout"
        },
        {
          "output_type": "stream",
          "text": [
            "Loss=0.0027809327002614737 Batch_id=781 Accuracy=99.62: 100%|██████████| 782/782 [00:23<00:00, 32.87it/s]\n",
            "100%|██████████| 157/157 [00:02<00:00, 58.07it/s]\n",
            "  0%|          | 0/782 [00:00<?, ?it/s]"
          ],
          "name": "stderr"
        },
        {
          "output_type": "stream",
          "text": [
            "\n",
            "Test set: Average loss: 1.0842, Accuracy: 8225/10000 (82.25%)\n",
            "\n",
            "EPOCH: 32\n"
          ],
          "name": "stdout"
        },
        {
          "output_type": "stream",
          "text": [
            "Loss=0.0023290361277759075 Batch_id=781 Accuracy=99.51: 100%|██████████| 782/782 [00:23<00:00, 32.82it/s]\n",
            "100%|██████████| 157/157 [00:02<00:00, 57.09it/s]\n",
            "  0%|          | 0/782 [00:00<?, ?it/s]"
          ],
          "name": "stderr"
        },
        {
          "output_type": "stream",
          "text": [
            "\n",
            "Test set: Average loss: 1.1409, Accuracy: 8085/10000 (80.85%)\n",
            "\n",
            "EPOCH: 33\n"
          ],
          "name": "stdout"
        },
        {
          "output_type": "stream",
          "text": [
            "Loss=0.12404031306505203 Batch_id=781 Accuracy=99.60: 100%|██████████| 782/782 [00:24<00:00, 32.54it/s]\n",
            "100%|██████████| 157/157 [00:02<00:00, 57.33it/s]\n",
            "  0%|          | 0/782 [00:00<?, ?it/s]"
          ],
          "name": "stderr"
        },
        {
          "output_type": "stream",
          "text": [
            "\n",
            "Test set: Average loss: 1.1320, Accuracy: 8126/10000 (81.26%)\n",
            "\n",
            "EPOCH: 34\n"
          ],
          "name": "stdout"
        },
        {
          "output_type": "stream",
          "text": [
            "Loss=0.04793914407491684 Batch_id=781 Accuracy=99.39: 100%|██████████| 782/782 [00:23<00:00, 32.79it/s]\n",
            "100%|██████████| 157/157 [00:02<00:00, 56.59it/s]\n",
            "  0%|          | 0/782 [00:00<?, ?it/s]"
          ],
          "name": "stderr"
        },
        {
          "output_type": "stream",
          "text": [
            "\n",
            "Test set: Average loss: 1.1712, Accuracy: 8137/10000 (81.37%)\n",
            "\n",
            "EPOCH: 35\n"
          ],
          "name": "stdout"
        },
        {
          "output_type": "stream",
          "text": [
            "Loss=0.10125888139009476 Batch_id=781 Accuracy=99.37: 100%|██████████| 782/782 [00:23<00:00, 32.87it/s]\n",
            "100%|██████████| 157/157 [00:02<00:00, 54.48it/s]\n",
            "  0%|          | 0/782 [00:00<?, ?it/s]"
          ],
          "name": "stderr"
        },
        {
          "output_type": "stream",
          "text": [
            "\n",
            "Test set: Average loss: 1.1885, Accuracy: 8053/10000 (80.53%)\n",
            "\n",
            "EPOCH: 36\n"
          ],
          "name": "stdout"
        },
        {
          "output_type": "stream",
          "text": [
            "Loss=0.9061257839202881 Batch_id=781 Accuracy=99.08: 100%|██████████| 782/782 [00:23<00:00, 32.69it/s]\n",
            "100%|██████████| 157/157 [00:02<00:00, 56.55it/s]\n",
            "  0%|          | 0/782 [00:00<?, ?it/s]"
          ],
          "name": "stderr"
        },
        {
          "output_type": "stream",
          "text": [
            "\n",
            "Test set: Average loss: 1.1756, Accuracy: 8096/10000 (80.96%)\n",
            "\n",
            "EPOCH: 37\n"
          ],
          "name": "stdout"
        },
        {
          "output_type": "stream",
          "text": [
            "Loss=0.010998149402439594 Batch_id=781 Accuracy=98.75: 100%|██████████| 782/782 [00:23<00:00, 32.73it/s]\n",
            "100%|██████████| 157/157 [00:02<00:00, 55.52it/s]\n",
            "  0%|          | 0/782 [00:00<?, ?it/s]"
          ],
          "name": "stderr"
        },
        {
          "output_type": "stream",
          "text": [
            "\n",
            "Test set: Average loss: 1.1272, Accuracy: 8134/10000 (81.34%)\n",
            "\n",
            "EPOCH: 38\n"
          ],
          "name": "stdout"
        },
        {
          "output_type": "stream",
          "text": [
            "Loss=0.0023074785713106394 Batch_id=781 Accuracy=99.29: 100%|██████████| 782/782 [00:23<00:00, 32.75it/s]\n",
            "100%|██████████| 157/157 [00:02<00:00, 54.73it/s]\n",
            "  0%|          | 0/782 [00:00<?, ?it/s]"
          ],
          "name": "stderr"
        },
        {
          "output_type": "stream",
          "text": [
            "\n",
            "Test set: Average loss: 1.1508, Accuracy: 8119/10000 (81.19%)\n",
            "\n",
            "EPOCH: 39\n"
          ],
          "name": "stdout"
        },
        {
          "output_type": "stream",
          "text": [
            "Loss=0.0029682437889277935 Batch_id=781 Accuracy=99.31: 100%|██████████| 782/782 [00:23<00:00, 32.66it/s]\n",
            "100%|██████████| 157/157 [00:02<00:00, 55.82it/s]\n",
            "  0%|          | 0/782 [00:00<?, ?it/s]"
          ],
          "name": "stderr"
        },
        {
          "output_type": "stream",
          "text": [
            "\n",
            "Test set: Average loss: 1.1194, Accuracy: 8095/10000 (80.95%)\n",
            "\n",
            "EPOCH: 40\n"
          ],
          "name": "stdout"
        },
        {
          "output_type": "stream",
          "text": [
            "Loss=0.07581321895122528 Batch_id=781 Accuracy=99.38: 100%|██████████| 782/782 [00:23<00:00, 32.62it/s]\n",
            "100%|██████████| 157/157 [00:02<00:00, 55.91it/s]"
          ],
          "name": "stderr"
        },
        {
          "output_type": "stream",
          "text": [
            "\n",
            "Test set: Average loss: 1.1205, Accuracy: 8179/10000 (81.79%)\n",
            "\n"
          ],
          "name": "stdout"
        },
        {
          "output_type": "stream",
          "text": [
            "\n"
          ],
          "name": "stderr"
        }
      ]
    }
  ]
}